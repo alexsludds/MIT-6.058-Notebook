{
 "cells": [
  {
   "cell_type": "code",
   "execution_count": 1,
   "metadata": {},
   "outputs": [],
   "source": [
    "import numpy as np\n",
    "import scipy as sp\n",
    "import scipy.signal as signal\n",
    "import matplotlib.pyplot as plt\n",
    "import IPython.display as ipd\n",
    "from ipywidgets import interact\n",
    "import warnings\n",
    "warnings.filterwarnings('ignore')\n",
    "\n",
    "# helper functions:\n",
    "def make_cosine(a, k, ph, N) :\n",
    "    n = np.arange(N)\n",
    "    return a * np.cos( 2 * np.pi * k / N * n + ph)\n",
    "\n",
    "def testConvolution():\n",
    "    #test1 delta with a delta\n",
    "    signal1 = [1]\n",
    "    signal2 = [1]\n",
    "    if(convolution(signal1,signal2)==None):\n",
    "        pass\n",
    "    elif(convolution(signal1,signal2)[0]==1):\n",
    "        print(\"Test 1 Passed\")\n",
    "    else:\n",
    "        print(\"Test 1 Failed\")\n",
    "    #delta with complicated signal\n",
    "    signal1 = [1,2]\n",
    "    signal2 = [1]\n",
    "    if(convolution(signal1,signal2)==None):\n",
    "        pass\n",
    "    elif(convolution(signal1,signal2)[0]==1 and convolution(signal1,signal2)[1]==2):\n",
    "        print(\"Test 2 Passed\")\n",
    "    else:\n",
    "        print(\"Test 2 Failed\")\n",
    "    #two complicated signals together\n",
    "    signal1 = [1,2,3]\n",
    "    signal2 = [3,4]\n",
    "    convolved = np.convolve(signal1,signal2)\n",
    "    tooCompare = convolution(signal1,signal2)\n",
    "    if(tooCompare==None):\n",
    "        pass\n",
    "    elif(convolved[0:4]==tooCompare[0:4]):\n",
    "        print(\"Test 3 Passed\")\n",
    "    else:\n",
    "        print(\"Test 3 Failed\")"
   ]
  },
  {
   "cell_type": "markdown",
   "metadata": {},
   "source": [
    "# Correlation and Convolution"
   ]
  },
  {
   "cell_type": "markdown",
   "metadata": {},
   "source": [
    "We define correlation as the similarity between two signals. In statistics we say that two things are correlated if the data from one things strongly depends on the data from the other thing.\n",
    "Let's first do a demo to get an idea about how correlation works for signals."
   ]
  },
  {
   "cell_type": "code",
   "execution_count": 2,
   "metadata": {},
   "outputs": [
    {
     "data": {
      "application/vnd.jupyter.widget-view+json": {
       "model_id": "f64bd15fd76d4e1c86a3cc6f86f8cbce",
       "version_major": 2,
       "version_minor": 0
      },
      "text/html": [
       "<p>Failed to display Jupyter Widget of type <code>interactive</code>.</p>\n",
       "<p>\n",
       "  If you're reading this message in the Jupyter Notebook or JupyterLab Notebook, it may mean\n",
       "  that the widgets JavaScript is still loading. If this message persists, it\n",
       "  likely means that the widgets JavaScript library is either not installed or\n",
       "  not enabled. See the <a href=\"https://ipywidgets.readthedocs.io/en/stable/user_install.html\">Jupyter\n",
       "  Widgets Documentation</a> for setup instructions.\n",
       "</p>\n",
       "<p>\n",
       "  If you're reading this message in another frontend (for example, a static\n",
       "  rendering on GitHub or <a href=\"https://nbviewer.jupyter.org/\">NBViewer</a>),\n",
       "  it may mean that your frontend doesn't currently support widgets.\n",
       "</p>\n"
      ],
      "text/plain": [
       "interactive(children=(IntSlider(value=0, description='shift', max=6, min=-6), Output()), _dom_classes=('widget-interact',))"
      ]
     },
     "metadata": {},
     "output_type": "display_data"
    }
   ],
   "source": [
    "def correlationDemo(shift):\n",
    "    xs = [0,0,0,0,0,0,1,2,3,0,0,0,0,0,0]\n",
    "    plt.figure()\n",
    "    plt.plot(xs)\n",
    "    plt.plot(np.roll(xs,shift))\n",
    "    plt.show()\n",
    "    print(\"Similarity:\",np.correlate(xs,np.roll(xs,shift))[0])\n",
    "interact(correlationDemo, shift=(-6,6));"
   ]
  },
  {
   "cell_type": "markdown",
   "metadata": {},
   "source": [
    "So when the two signals are most similar we return the highest number, awesome!\n",
    "We are going to represent correlation using the following equation\n",
    "$$\\text{correlation} = \\sum_{i=-\\infty}^{\\infty}x[i]y[i]$$"
   ]
  },
  {
   "cell_type": "markdown",
   "metadata": {},
   "source": [
    "Now, often times in signal processing we don't just want one number for the correlation of two signals, we want a list of numbers that represents how correlated two signals are as we shift one relative to the other.\n",
    "We call this method of correlation cross-correlation and will give it the notion $CC[n]$. Note that $CC[0]$ just represents the correlation of two signals.\n",
    "## Homework Exercise\n",
    "Now, implement the cross correlation of two signals in the below function. Use zero-padding (assume values that you don't know are zero). Note that my example above will help you."
   ]
  },
  {
   "cell_type": "code",
   "execution_count": 3,
   "metadata": {},
   "outputs": [],
   "source": [
    "def crossCorrelation(signal1,signal2):\n",
    "    pass\n",
    "crossCorrelation(signal1=[0,0,0,1,2,3,0,0,0],signal2=[0,0,0,1,2,3,0,0,0])"
   ]
  },
  {
   "cell_type": "markdown",
   "metadata": {},
   "source": [
    "So, correlation is kind of interesting, but what is more interesting is how it relates to system responses.\n",
    "First, let's make sure we understand one property of LTI system response before continuing."
   ]
  },
  {
   "cell_type": "markdown",
   "metadata": {},
   "source": [
    "From section 1 we know that a delta input gives an impulse response. Any discrete signal is the sum of deltas:\n",
    "$$ x[n] = \\sum_{i=-\\infty}^{\\infty} x[i] \\delta[n-i]$$\n",
    "\n",
    "And now the key: our input can be broken into a linear sum of shifted deltas. If our system is LTI we can consider the individual deltas and find their impulse response and then sum those. \n",
    "Let us look at an example with input $$[1,3,-1]$$ and system $$y[n] = x[n] + 2 x[n-1]$$."
   ]
  },
  {
   "cell_type": "code",
   "execution_count": 4,
   "metadata": {},
   "outputs": [
    {
     "data": {
      "image/png": "[encoded data removed]",
      "text/plain": [
       "<matplotlib.figure.Figure at 0x7fd687440908>"
      ]
     },
     "metadata": {},
     "output_type": "display_data"
    },
    {
     "data": {
      "image/png": "[encoded data removed]",
      "text/plain": [
       "<matplotlib.figure.Figure at 0x7fd68740cf60>"
      ]
     },
     "metadata": {},
     "output_type": "display_data"
    },
    {
     "data": {
      "image/png": "[encoded data removed]",
      "text/plain": [
       "<matplotlib.figure.Figure at 0x7fd6873c3eb8>"
      ]
     },
     "metadata": {},
     "output_type": "display_data"
    },
    {
     "data": {
      "image/png": "[encoded data removed]",
      "text/plain": [
       "<matplotlib.figure.Figure at 0x7fd6873680b8>"
      ]
     },
     "metadata": {},
     "output_type": "display_data"
    }
   ],
   "source": [
    "def correlationDemo():\n",
    "    xs = [1,2,0]\n",
    "    ys = [1,0,0]\n",
    "    sys = signal.TransferFunction(xs, ys,dt=1.0)\n",
    "    responsetime1 , response1 = signal.dlsim(sys,[1,0,0])\n",
    "    plt.figure()\n",
    "    plt.plot(responsetime1,response1,'bo')\n",
    "    plt.ylim([-1.5,7])\n",
    "    plt.title(\"Response to delta[n]\")\n",
    "    plt.show()\n",
    "    \n",
    "    responsetime2 , response2 = signal.dlsim(sys,[0,3,0])\n",
    "    plt.figure()\n",
    "    plt.plot(responsetime2,response2,'bo')\n",
    "    plt.title(\"Response to 3delta[n-1]\")\n",
    "    plt.ylim([-1.5,7])\n",
    "    plt.show()\n",
    "    \n",
    "    responsetime3 , response3 = signal.dlsim(sys,[0,0,-1])\n",
    "    plt.figure()\n",
    "    plt.plot(responsetime3,response3,'bo')\n",
    "    plt.title(\"Response to -delta[n-2]\")\n",
    "    plt.ylim([-1.5,7])\n",
    "    plt.show()\n",
    "    \n",
    "    totalresponsetime , totalresponse = signal.dlsim(sys,[1,3,-1])\n",
    "    plt.figure()\n",
    "    plt.plot(totalresponsetime,totalresponse,'bo')\n",
    "    plt.title(\"Total Response of the System\")\n",
    "    plt.ylim([-1.5,7])\n",
    "    plt.show()\n",
    "    \n",
    "correlationDemo()"
   ]
  },
  {
   "cell_type": "markdown",
   "metadata": {},
   "source": [
    "OH INTERESTING :D :D!\n",
    "So the output of a system is just some shifted and linearly scaled version of the impulse response! (NOTE! This is only true if the system is LTI).\n",
    "We shall formalize this by writing the equation for what is going on here:\n",
    "$$ y[n] = \\sum_{k=\\infty}^{\\infty} h[n]x[n-k]$$\n",
    "Note! The right side of the equation looks A LOT like cross-correlation. However, there is a pesky negative sign in there. In partular this is doing the cross-correlation of one signal with the x-axis flipped version of the other. We are going to call this operator convolution. \n",
    "\n",
    "## Homework Exercise\n",
    "Code up a version of convolution here: (the below diagrams should really help you understand what you need to code)."
   ]
  },
  {
   "cell_type": "code",
   "execution_count": 5,
   "metadata": {},
   "outputs": [],
   "source": [
    "def convolution(signal1,signal2):\n",
    "    pass\n",
    "    \n",
    "testConvolution()"
   ]
  },
  {
   "cell_type": "markdown",
   "metadata": {},
   "source": [
    "Here is another diagram that will assist you in understanding :)\n",
    "![convolution part 1](Photos/conv1.png)\n",
    "![convolution part 2](Photos/conv2.png)\n",
    "![convolution part 3](Photos/conv3.png)\n",
    "![convolution part 4](Photos/conv4.png)\n",
    "![convolution part 5](Photos/conv5.png)"
   ]
  },
  {
   "cell_type": "markdown",
   "metadata": {},
   "source": [
    "In addition, this video will help you on your quest of understanding: \n",
    "https://www.youtube.com/watch?v=O9-HN-yzsFQ&feature=youtu.be\n",
    "\n",
    "So, to finish up on how correlation relates to convolution, we find that they are incredibly similar operations, with a minus sign thrown in. This is because we can thing of an output of a system as being correlated with the system of input that comes into the system. So, conceptually speaking, the convolution of a signal with a system results in another signal that tells you how the system responds, which is a measure of correlation of the signal with the system.\n",
    "\n",
    "Let's move on to something cool!\n",
    "\n",
    "We are about to cover the most interesting tool of your educational career! Perk up here!\n",
    "\n",
    "Consider the cross-correlation of a sine wave with itself:"
   ]
  },
  {
   "cell_type": "code",
   "execution_count": 6,
   "metadata": {},
   "outputs": [
    {
     "data": {
      "application/vnd.jupyter.widget-view+json": {
       "model_id": "6dc2b912561c41b4b5103f87d20027f3",
       "version_major": 2,
       "version_minor": 0
      },
      "text/html": [
       "<p>Failed to display Jupyter Widget of type <code>interactive</code>.</p>\n",
       "<p>\n",
       "  If you're reading this message in the Jupyter Notebook or JupyterLab Notebook, it may mean\n",
       "  that the widgets JavaScript is still loading. If this message persists, it\n",
       "  likely means that the widgets JavaScript library is either not installed or\n",
       "  not enabled. See the <a href=\"https://ipywidgets.readthedocs.io/en/stable/user_install.html\">Jupyter\n",
       "  Widgets Documentation</a> for setup instructions.\n",
       "</p>\n",
       "<p>\n",
       "  If you're reading this message in another frontend (for example, a static\n",
       "  rendering on GitHub or <a href=\"https://nbviewer.jupyter.org/\">NBViewer</a>),\n",
       "  it may mean that your frontend doesn't currently support widgets.\n",
       "</p>\n"
      ],
      "text/plain": [
       "interactive(children=(IntSlider(value=2, description='k1', max=10, min=1), IntSlider(value=3, description='k2', max=10, min=1), Output()), _dom_classes=('widget-interact',))"
      ]
     },
     "metadata": {},
     "output_type": "display_data"
    }
   ],
   "source": [
    "def sinusoid_dot_proudct(k1=2, k2=3) :\n",
    "    N = 100\n",
    "    x1 = make_cosine(1, k1, 0, N)\n",
    "    x2 = make_cosine(1, k2, 0, N)\n",
    "    x1x2 = x1 * x2 #elementwise product\n",
    "    dp = np.sum(x1x2)\n",
    "    plt.figure()\n",
    "    plt.subplot(2,1,1)\n",
    "    plt.plot(x1)\n",
    "    plt.plot(x2)\n",
    "    plt.subplot(2,1,2)\n",
    "    plt.plot(x1x2, 'r')\n",
    "    plt.ylim(-1,1)\n",
    "    plt.ylabel('$x_1 \\cdot x_2$')\n",
    "    plt.text(70, 0.7, '< x1 , x2 > = %.2f' % dp, size=15)\n",
    "    plt.show()\n",
    "interact(sinusoid_dot_proudct,k1=(1, 10), k2 = (1,10));"
   ]
  },
  {
   "cell_type": "markdown",
   "metadata": {},
   "source": [
    "So sinewavess of the same frequency correlate to a non-zero value, but sinewaves of different frequencies don't have that property.\n",
    "I am going to be rigorous and prove that in continuous time right now:\n",
    "$$ \\int_{-\\pi}^{\\pi} \\sin(k_{1}x)\\sin(k_{2}x) dx = \\frac{1}{2} \\int_{-\\pi}^{\\pi} \\cos((k_{1}-k_{2})x)-\\cos((k_{1}+k_{2})x) dx = \\frac{1}{2} \\frac{\\sin((k_{1}-k_{2})x)}{k_{1}-k_{2}} \\Bigg |_{\\pi}^{\\pi} - \\frac{1}{2} \\frac{\\sin((k_{1}+k_{2})x)}{k_{1}+k_{2}} \\Bigg |_{\\pi}^{\\pi} = 0 \\text{ if } k_{1} \\neq k_{2}$$"
   ]
  },
  {
   "attachments": {
    "image.png": {
     "image/png": "[encoded data removed]"
    }
   },
   "cell_type": "markdown",
   "metadata": {},
   "source": [
    "Huh! So if we convolve (read as correlate) a sine wave with another sine wave we get a value telling us if they match in frequency. So we can now build a frequency detector :D\n",
    "Code one up below! Make use of make_cosine.\n",
    "Your output should look like this:\n",
    "![image.png](attachment:image.png)"
   ]
  },
  {
   "cell_type": "code",
   "execution_count": 7,
   "metadata": {},
   "outputs": [],
   "source": [
    "def frequencyDetector(signal1,freqrangemin,freqrangemax):\n",
    "    pass\n",
    "    \n",
    "cos = make_cosine(a=1.0,k=10,N=1000,ph=0)\n",
    "frequencyDetector(cos,1,20)"
   ]
  },
  {
   "cell_type": "markdown",
   "metadata": {},
   "source": [
    "A frequency detector. Now, how would one do this in continuous time? In continuous time we are going to preresent a generic sinusoid using a complex exponential $$\\cos(x) + j \\sin(x) = e^{j x}$$. We will discuss later why we have a real and imaginary part.\n",
    "So, in continuous time our frequency detector is going to look like this:\n",
    "$$ X(\\omega) = \\int_{-\\infty}^{\\infty}x(t)e^{-j \\omega t} dt$$\n",
    "So, with this in mind can you create a formula that does this same operation with discrete signals? \n",
    "## Homework Exercise\n",
    "\n",
    "Create a discrete frequency detector. You can use a cosine instead of $e^{j \\omega t}$ \n",
    "I am not looking for insane precision, just something that shows you understand the general idea."
   ]
  },
  {
   "cell_type": "code",
   "execution_count": 8,
   "metadata": {},
   "outputs": [],
   "source": [
    "def discreteFrequencyDetector(signal):\n",
    "    pass\n",
    "signal = make_cosine(a=2.,k=5,N=1000,ph=0) + make_cosine(a=1.,k=10,N=1000,ph=0) + make_cosine(a = 3., k = 7, N =1000, ph = 0)\n",
    "discreteFrequencyDetector(signal=signal)"
   ]
  },
  {
   "cell_type": "markdown",
   "metadata": {},
   "source": [
    "The tool you created above is actually what is called the \"Fourier Transform\" which just takes some time domain signal and shows us its frequency content.\n",
    "Why don't we have a look at the fourier transform of some very common signals :D :D "
   ]
  },
  {
   "cell_type": "code",
   "execution_count": 9,
   "metadata": {},
   "outputs": [
    {
     "data": {
      "image/png": "[encoded data removed]",
      "text/plain": [
       "<matplotlib.figure.Figure at 0x7fd68728def0>"
      ]
     },
     "metadata": {},
     "output_type": "display_data"
    },
    {
     "data": {
      "image/png": "[encoded data removed]",
      "text/plain": [
       "<matplotlib.figure.Figure at 0x7fd6872460b8>"
      ]
     },
     "metadata": {},
     "output_type": "display_data"
    },
    {
     "data": {
      "image/png": "[encoded data removed]",
      "text/plain": [
       "<matplotlib.figure.Figure at 0x7fd6872e1ef0>"
      ]
     },
     "metadata": {},
     "output_type": "display_data"
    }
   ],
   "source": [
    "cosed = make_cosine(a=1.0,k=50,N=1000,ph=0)\n",
    "plt.figure()\n",
    "plt.plot(np.fft.rfft(cosed));\n",
    "plt.title(\"Fourier transform of cosine of frequency 50rad/s\")\n",
    "plt.show()\n",
    "\n",
    "cosed2 = make_cosine(a=1.0,k=70,N=1000,ph=0)\n",
    "plt.figure()\n",
    "plt.plot(np.fft.rfft(cosed+cosed2));\n",
    "plt.title(\"Fourier transform of cosine of frequency 50rad/s + a cosine of frequency 70rad/s\")\n",
    "plt.show()\n",
    "\n",
    "plt.figure()\n",
    "plt.plot(np.fft.rfft(cosed*cosed2));\n",
    "plt.title(\"Fourier transform of cosine of frequency 50rad/s times a cosine of frequency 70rad/s\")\n",
    "plt.show()\n"
   ]
  },
  {
   "cell_type": "markdown",
   "metadata": {},
   "source": [
    "OHHHHH, that last picture is REALLY REALLY interesting. When we multiply the cosines together it seems to make two frequency spikes of 20rad/s and 120rad/s respectively. \n",
    "## Homework Exercise\n",
    "Why does this occur? Think about trigonometry and the product of two cosines\n",
    "$$\\text{Write why this occurs here}$$."
   ]
  },
  {
   "cell_type": "markdown",
   "metadata": {},
   "source": [
    "We are going to think of applications of this weird phenomena.\n",
    "For example, suppose we have an audio signal and we want to shift it up to a different center frequency, how can we do that? I have a toy example below:"
   ]
  },
  {
   "cell_type": "code",
   "execution_count": 10,
   "metadata": {},
   "outputs": [
    {
     "ename": "AttributeError",
     "evalue": "'numpy.ndarray' object has no attribute 'chirp'",
     "output_type": "error",
     "traceback": [
      "\u001b[0;31m---------------------------------------------------------------------------\u001b[0m",
      "\u001b[0;31mAttributeError\u001b[0m                            Traceback (most recent call last)",
      "\u001b[0;32m<ipython-input-10-0ac70dde37bc>\u001b[0m in \u001b[0;36m<module>\u001b[0;34m()\u001b[0m\n\u001b[1;32m      1\u001b[0m \u001b[0;31m#starttime =\u001b[0m\u001b[0;34m\u001b[0m\u001b[0;34m\u001b[0m\u001b[0m\n\u001b[0;32m----> 2\u001b[0;31m \u001b[0mchirp\u001b[0m \u001b[0;34m=\u001b[0m \u001b[0msignal\u001b[0m\u001b[0;34m.\u001b[0m\u001b[0mchirp\u001b[0m\u001b[0;34m(\u001b[0m\u001b[0mnp\u001b[0m\u001b[0;34m.\u001b[0m\u001b[0mlinspace\u001b[0m\u001b[0;34m(\u001b[0m\u001b[0;36m0\u001b[0m\u001b[0;34m,\u001b[0m\u001b[0;36m10\u001b[0m\u001b[0;34m,\u001b[0m\u001b[0;36m550\u001b[0m\u001b[0;34m)\u001b[0m\u001b[0;34m,\u001b[0m \u001b[0mf0\u001b[0m\u001b[0;34m=\u001b[0m\u001b[0;36m0\u001b[0m\u001b[0;34m,\u001b[0m \u001b[0mf1\u001b[0m\u001b[0;34m=\u001b[0m\u001b[0;36m3\u001b[0m\u001b[0;34m,\u001b[0m \u001b[0mt1\u001b[0m\u001b[0;34m=\u001b[0m\u001b[0;36m10\u001b[0m\u001b[0;34m,\u001b[0m \u001b[0mmethod\u001b[0m\u001b[0;34m=\u001b[0m\u001b[0;34m'linear'\u001b[0m\u001b[0;34m)\u001b[0m\u001b[0;34m\u001b[0m\u001b[0m\n\u001b[0m\u001b[1;32m      3\u001b[0m \u001b[0mplt\u001b[0m\u001b[0;34m.\u001b[0m\u001b[0mfigure\u001b[0m\u001b[0;34m(\u001b[0m\u001b[0;34m)\u001b[0m\u001b[0;34m\u001b[0m\u001b[0m\n\u001b[1;32m      4\u001b[0m \u001b[0mplt\u001b[0m\u001b[0;34m.\u001b[0m\u001b[0mplot\u001b[0m\u001b[0;34m(\u001b[0m\u001b[0mnp\u001b[0m\u001b[0;34m.\u001b[0m\u001b[0mfft\u001b[0m\u001b[0;34m.\u001b[0m\u001b[0mrfft\u001b[0m\u001b[0;34m(\u001b[0m\u001b[0mchirp\u001b[0m\u001b[0;34m)\u001b[0m\u001b[0;34m)\u001b[0m\u001b[0;34m\u001b[0m\u001b[0m\n\u001b[1;32m      5\u001b[0m \u001b[0mplt\u001b[0m\u001b[0;34m.\u001b[0m\u001b[0mtitle\u001b[0m\u001b[0;34m(\u001b[0m\u001b[0;34m\"Fourier Transform of a chirp. Just meant to be generic signal.\"\u001b[0m\u001b[0;34m)\u001b[0m\u001b[0;34m\u001b[0m\u001b[0m\n",
      "\u001b[0;31mAttributeError\u001b[0m: 'numpy.ndarray' object has no attribute 'chirp'"
     ]
    }
   ],
   "source": [
    "#starttime = \n",
    "chirp = signal.chirp(np.linspace(0,10,550), f0=0, f1=3, t1=10, method='linear')\n",
    "plt.figure()\n",
    "plt.plot(np.fft.rfft(chirp))\n",
    "plt.title(\"Fourier Transform of a chirp. Just meant to be generic signal.\")\n",
    "plt.show()\n",
    "\n",
    "cosmod = make_cosine(a=1.0,k=120,N=len(chirp),ph=0)\n",
    "plt.figure()\n",
    "plt.plot(np.fft.rfft(chirp*cosmod))\n",
    "plt.title(\"Fourier Transform of a chirp multiplied by a cosine of frequency 120rad/s. Look at the shift in center frequency.\")\n",
    "plt.show()"
   ]
  },
  {
   "cell_type": "markdown",
   "metadata": {},
   "source": [
    "Note, that chirp's frequency is symmetry, so that is why it looks like two copies of the chirp occur when it was shifted by 120rad/s"
   ]
  },
  {
   "cell_type": "markdown",
   "metadata": {},
   "source": [
    "We call this process of shifting content from one frequency range to another heterodyning.\n",
    "It is recommended you read this wikipedia page: https://en.wikipedia.org/wiki/Heterodyne\n",
    "\n",
    "## Homework Exercise\n",
    "\n",
    "What is a HUGE application of this theory? How is used everyday?\n",
    "$$\\text{ HUGE application of the heterodyne principle} $$\n",
    "\n",
    "## Homework Exercise\n",
    "\n",
    "Suppose I am given a heterodyned signal (the second signal from above). How do I recover the original received signal?\n",
    "$$\\text{ Method of recovery}$$\n",
    "\n",
    "We are going to go into this frequency stuff in substantially more detail next time."
   ]
  }
 ],
 "metadata": {
  "kernelspec": {
   "display_name": "Python 3",
   "language": "python",
   "name": "python3"
  },
  "language_info": {
   "codemirror_mode": {
    "name": "ipython",
    "version": 3
   },
   "file_extension": ".py",
   "mimetype": "text/x-python",
   "name": "python",
   "nbconvert_exporter": "python",
   "pygments_lexer": "ipython3",
   "version": "3.5.2"
  }
 },
 "nbformat": 4,
 "nbformat_minor": 2
}
