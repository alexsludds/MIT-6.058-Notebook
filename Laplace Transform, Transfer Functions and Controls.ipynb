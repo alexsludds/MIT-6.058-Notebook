{
 "cells": [
  {
   "cell_type": "code",
   "execution_count": 1,
   "metadata": {},
   "outputs": [],
   "source": [
    "import numpy as np\n",
    "global np\n",
    "import scipy as sp\n",
    "import scipy.signal as signal\n",
    "import matplotlib.pyplot as plt\n",
    "import IPython.display as ipd\n",
    "from ipywidgets import interact\n",
    "import sys\n",
    "import wave\n",
    "sys.path.append(\"../backend/\")\n",
    "%matplotlib inline"
   ]
  },
  {
   "cell_type": "markdown",
   "metadata": {},
   "source": [
    "# The laplace transform\n",
    "\n",
    "Today we are going to learn about another kind of transform. However, this transform is a more generalized version of the fourier transform.\n",
    "\n",
    "When we write the continuous-time Fourier transform we often write \n",
    "\n",
    "$$ F(j \\omega) = \\int_{-\\infty}^{\\infty} f(t) e^{-j\\omega t} dt $$\n",
    "However, we can greatly generalize this formula with a small substitution:\n",
    "$$ L(s) = \\int_{-\\infty}^{\\infty} f(t) e^{-s t} dt $$\n",
    "where $s = \\sigma + j \\omega$\n",
    "\n",
    "Now you, like any sane and reasonable human being might be like \"WHAT IS THIS CONFOUNDING $\\sigma$ ??\"\n",
    "Previous we have been dealing with $\\omega$ which we supposed to be the imaginary part of the frequency. However, now we are going to throw in an real component of frequency.\n",
    "\n",
    "Two questions may come to your head right now. \"What is real frequency?\" and \"how is this a generalized Fourier transform?\"\n",
    "\n",
    "To answer question 2 first, if we evaluate the laplace transform with $s=j\\omega$ we obtain the fourier transform.\n",
    "\n",
    "For question 1, we are going to consider what happens when $\\omega = 0$. We obtain:\n",
    "$$L(\\sigma) = \\int_{-\\infty}^{\\infty} f(t)e^{-\\sigma t}$$\n",
    "\n",
    "Before complex exponentials were just sines and cosines and multiplying by complex exponentials selects for sines and cosines in the signal $f(t)$.\n",
    "\n",
    "Now we are dealing with normal exponential functions and are multiplying our signal $f(t)$ by these exponential functions in order to see what exponential content is within them.\n",
    "\n",
    "Before we can continue, I want to be really rigorous about this.\n",
    "Remember how when we talked about the fourier transform that we said that sines and cosines of different frequencies have zero correlation?\n",
    "\n",
    "We now want to show that exponential functions have zero correlation with exponentia content of a different frequency.\n",
    "\n",
    "\n",
    "# FUCKING DO THIS PROOF SLUDDS!"
   ]
  },
  {
   "cell_type": "markdown",
   "metadata": {},
   "source": [
    "Okay, a new transform, why do I care?\n",
    "Well it turns out that so many linear systems are trivially modeled by a laplace transform. \n",
    "And that is for the following reason:\n",
    "$$\\int_{-\\infty}^{\\infty} \\frac{df(t)}{dt}e^{-st}dt = sL(f(t))-f(0)$$ by integration by parts (I am not going to write this out lol proof found here:https://www.mathalino.com/reviewer/advance-engineering-mathematics/laplace-transforms-derivatives )\n",
    "\n",
    "For the second derivative we have that \n",
    "$$\\int_{-\\infty}^{\\infty} \\frac{d^2 f(t)}{dt^2}e^{-st}dt = s^2L(f(t)) -sf(0) - f'(0)$$\n",
    "\n",
    "and so on.\n",
    "\n",
    "Because we often assume that our initial conditions are stationary (e.g. $f(0)=0$, $f'(0) = 0$) we can say in many cases that $$L(f^{n}(t)) = s^{n}L(f(t))$$ where this means that the laplace transform of the nth derivative of a signal is $s^{n}$ times the laplace transform."
   ]
  },
  {
   "cell_type": "markdown",
   "metadata": {},
   "source": [
    "We can use this property in order to convert ordinary differential equations into something more....palitable. \n",
    "First, allow us to consider an example problem.\n",
    "We are going to consider analyzing an RLC circuit \n",
    "https://www.mathworks.com/help/control/ug/analyzing-the-response-of-an-rlc-circuit.html\n",
    "As documented on the mathworks website we find that the voltage-to-voltage transfer function of this RLC circuit is:\n",
    "$$H(s) = \\frac{\\frac{s}{RC}}{s^2+\\frac{s}{RC}+\\frac{1}{LC}}$$\n",
    "\n",
    "Let's consider the step response of this RLC circit for many different values of R,L,C\n"
   ]
  },
  {
   "cell_type": "code",
   "execution_count": 2,
   "metadata": {},
   "outputs": [
    {
     "data": {
      "application/vnd.jupyter.widget-view+json": {
       "model_id": "19dc913230f048519f919c715aa73fda",
       "version_major": 2,
       "version_minor": 0
      },
      "text/html": [
       "<p>Failed to display Jupyter Widget of type <code>interactive</code>.</p>\n",
       "<p>\n",
       "  If you're reading this message in Jupyter Notebook or JupyterLab, it may mean\n",
       "  that the widgets JavaScript is still loading. If this message persists, it\n",
       "  likely means that the widgets JavaScript library is either not installed or\n",
       "  not enabled. See the <a href=\"https://ipywidgets.readthedocs.io/en/stable/user_install.html\">Jupyter\n",
       "  Widgets Documentation</a> for setup instructions.\n",
       "</p>\n",
       "<p>\n",
       "  If you're reading this message in another notebook frontend (for example, a static\n",
       "  rendering on GitHub or <a href=\"https://nbviewer.jupyter.org/\">NBViewer</a>),\n",
       "  it may mean that your frontend doesn't currently support widgets.\n",
       "</p>\n"
      ],
      "text/plain": [
       "interactive(children=(FloatSlider(value=100.0, description=u'R', min=1.0), IntSlider(value=1, description=u'C', min=1), IntSlider(value=1, description=u'L', min=1), Output()), _dom_classes=('widget-interact',))"
      ]
     },
     "metadata": {},
     "output_type": "display_data"
    }
   ],
   "source": [
    "def RLCDemo(R=1000,C=10.**(-10),L=10.**(-5)):\n",
    "    num = [0,1,0]\n",
    "    den = [R*C,1,float(R)/float(L)]\n",
    "    tf = signal.TransferFunction(num,den)\n",
    "    t,y = sp.signal.step(tf)\n",
    "    plt.figure()\n",
    "    plt.plot(t,y);\n",
    "    plt.show()\n",
    "    \n",
    "interact(RLCDemo,R=(1.,100),C=(1,100),L=(1,100)); #NOTE: In reality resistance, capacitance, and inductance values are very different than this, but this isn't a circuits class."
   ]
  },
  {
   "cell_type": "markdown",
   "metadata": {},
   "source": [
    "We want to be able to understand how this response comes about. \n",
    "There are several things that people have made matrics of:\n",
    "\n"
   ]
  },
  {
   "cell_type": "markdown",
   "metadata": {},
   "source": [
    "# SLUDDS! Generalize damping ratio, Q factor etc to nth order systems"
   ]
  },
  {
   "cell_type": "markdown",
   "metadata": {},
   "source": [
    "# SLUDDS! Create a bode plot tutorial here. These kids need their bode pltos"
   ]
  },
  {
   "cell_type": "markdown",
   "metadata": {},
   "source": [
    "# Controls\n",
    "\n",
    "One of my favorite topics, and something with A LOT of substance to it, controls is a super interesting. Controls is the act of make making shitty actuators behavor reasonably. Given that you know something about your system (a crude model, some knowledge about how it behaves in certain situations, anything really) you can create a control system that attempts to avoid or head towards certain \"states\". \n",
    "\n",
    "Today we are going to deal with three easy methods of control, proportional, derivative, and integral as well as one harder one which will be a state space formulation of control.\n",
    "\n",
    "## Proportional Control\n",
    "In most all cases we want to have a system obtain a certain state so we want some kind of proportional control on our system. \n",
    "Imagine a scenario of a robot heading towards a wall. We want to robot to stop right at the wall. One thing we could do it say \"keep moving until at wall, then stop motors\" but because of momentum our little robot friend will careen head first into the wall. So, as we get towards the wall we want to slow down. That is the idea behind proportional control, the closer we our to our target the slower we want to get there so that we don't overshoot.\n"
   ]
  },
  {
   "cell_type": "code",
   "execution_count": 3,
   "metadata": {},
   "outputs": [
    {
     "data": {
      "application/vnd.jupyter.widget-view+json": {
       "model_id": "453623dbbec9464596873772477f4d02",
       "version_major": 2,
       "version_minor": 0
      },
      "text/html": [
       "<p>Failed to display Jupyter Widget of type <code>interactive</code>.</p>\n",
       "<p>\n",
       "  If you're reading this message in Jupyter Notebook or JupyterLab, it may mean\n",
       "  that the widgets JavaScript is still loading. If this message persists, it\n",
       "  likely means that the widgets JavaScript library is either not installed or\n",
       "  not enabled. See the <a href=\"https://ipywidgets.readthedocs.io/en/stable/user_install.html\">Jupyter\n",
       "  Widgets Documentation</a> for setup instructions.\n",
       "</p>\n",
       "<p>\n",
       "  If you're reading this message in another notebook frontend (for example, a static\n",
       "  rendering on GitHub or <a href=\"https://nbviewer.jupyter.org/\">NBViewer</a>),\n",
       "  it may mean that your frontend doesn't currently support widgets.\n",
       "</p>\n"
      ],
      "text/plain": [
       "interactive(children=(IntSlider(value=1, description=u'k', max=30, min=1), Output()), _dom_classes=('widget-interact',))"
      ]
     },
     "metadata": {},
     "output_type": "display_data"
    }
   ],
   "source": [
    "def proportionalcontroldemo(k=1):\n",
    "    m = 1.\n",
    "    x = 100\n",
    "    v = 0\n",
    "    T = 0.001\n",
    "    positionlist = [x]\n",
    "    for i in range(1000):\n",
    "        v = -1.0*k*x\n",
    "        x = x + v*T\n",
    "        positionlist.append(x)\n",
    "    plt.figure()\n",
    "    plt.plot(positionlist)\n",
    "    plt.plot()\n",
    "    \n",
    "interact(proportionalcontroldemo,k=(1,30));"
   ]
  },
  {
   "cell_type": "markdown",
   "metadata": {},
   "source": [
    "## SLUDDS WRITE DOWN THE TRANSFER FUNCTION OF THE SYSTEM ETC AND MAKE A POLE ZERO DIAGRAM\n",
    "So, for this single pole system we find that for very small amounts of feedback control we can have arbitrarily faster convergence to our desired state.\n",
    "## \"BUT MR SLUDDS, WHY DON'T WE JUST GIVE INFINITE FEEDBACK?\"\n",
    "Good question imaginary billy, there are several reasons why:\n",
    "Firstly noise:\n",
    "# SLUDDS DO THE NOISE CALCULATION\n",
    "Secondly hardware constraints:\n",
    "Whatever actuator you are using probably can't convert infinite energy into infinite actuation in a linear manner (for a motor, doubling the power into it does not double the torque out).\n",
    "\n",
    "So, it seem we can control the robot reasonably fine, so why do we need anything else?\n",
    "\n",
    "Let's consider a system where the robot is under some kind of constant force. Suppose our robot has now mystically transformed into a quad-copter with a single propellor, and now has become conscious of the influence of gravity.\n",
    "\n"
   ]
  },
  {
   "cell_type": "code",
   "execution_count": 4,
   "metadata": {},
   "outputs": [
    {
     "data": {
      "application/vnd.jupyter.widget-view+json": {
       "model_id": "0b5c0652425248bd83f4ae79c366bf9a",
       "version_major": 2,
       "version_minor": 0
      },
      "text/html": [
       "<p>Failed to display Jupyter Widget of type <code>interactive</code>.</p>\n",
       "<p>\n",
       "  If you're reading this message in Jupyter Notebook or JupyterLab, it may mean\n",
       "  that the widgets JavaScript is still loading. If this message persists, it\n",
       "  likely means that the widgets JavaScript library is either not installed or\n",
       "  not enabled. See the <a href=\"https://ipywidgets.readthedocs.io/en/stable/user_install.html\">Jupyter\n",
       "  Widgets Documentation</a> for setup instructions.\n",
       "</p>\n",
       "<p>\n",
       "  If you're reading this message in another notebook frontend (for example, a static\n",
       "  rendering on GitHub or <a href=\"https://nbviewer.jupyter.org/\">NBViewer</a>),\n",
       "  it may mean that your frontend doesn't currently support widgets.\n",
       "</p>\n"
      ],
      "text/plain": [
       "interactive(children=(FloatSlider(value=1.0, description=u'k', max=10.0, min=0.1), Output()), _dom_classes=('widget-interact',))"
      ]
     },
     "metadata": {},
     "output_type": "display_data"
    }
   ],
   "source": [
    "def badproportionalcontroldemo(k=1):\n",
    "    Fg = 1.*9.81\n",
    "    x = 0\n",
    "    gamma = 0.3\n",
    "    desired = 100\n",
    "    T = 0.01\n",
    "    positionList = []\n",
    "    for i in range(1000):\n",
    "        v = 1.*gamma*(desired-x) -Fg #I know, velocity as acceleration is bad, but the system is underdetermined so meh\n",
    "        x = x + k*v*T\n",
    "        positionList.append(x)\n",
    "    plt.figure()\n",
    "    plt.plot(positionList)\n",
    "    plt.plot()\n",
    "    \n",
    "interact(badproportionalcontroldemo,k=(0.1,10));"
   ]
  },
  {
   "cell_type": "markdown",
   "metadata": {},
   "source": [
    "Oh weird, so the quadcopter is not able to make it all the way to its desired steady-state value. This makes sense since if the quadcopter were at steady-state then the proportional controller would be exerting zero force but the force of gravity would still act upon the quadcopter. Thus, we need some kind of controller that can compensate for constant offsets put on the system.\n",
    "ENTER:\n",
    "## Integral Controller\n",
    "\n",
    "The idea behind the integral controller is that we are going to integrate / sum all of the error in the system and put it as a signal into the acctuator (motor) to drive it."
   ]
  },
  {
   "cell_type": "code",
   "execution_count": 22,
   "metadata": {},
   "outputs": [
    {
     "data": {
      "application/vnd.jupyter.widget-view+json": {
       "model_id": "6ae64a77fd564b708bda60ed60008bce",
       "version_major": 2,
       "version_minor": 0
      },
      "text/html": [
       "<p>Failed to display Jupyter Widget of type <code>interactive</code>.</p>\n",
       "<p>\n",
       "  If you're reading this message in Jupyter Notebook or JupyterLab, it may mean\n",
       "  that the widgets JavaScript is still loading. If this message persists, it\n",
       "  likely means that the widgets JavaScript library is either not installed or\n",
       "  not enabled. See the <a href=\"https://ipywidgets.readthedocs.io/en/stable/user_install.html\">Jupyter\n",
       "  Widgets Documentation</a> for setup instructions.\n",
       "</p>\n",
       "<p>\n",
       "  If you're reading this message in another notebook frontend (for example, a static\n",
       "  rendering on GitHub or <a href=\"https://nbviewer.jupyter.org/\">NBViewer</a>),\n",
       "  it may mean that your frontend doesn't currently support widgets.\n",
       "</p>\n"
      ],
      "text/plain": [
       "interactive(children=(FloatSlider(value=1.0, description=u'kp', max=10.0, min=0.1), FloatSlider(value=0.0, description=u'ki', max=0.01, step=0.0001), Output()), _dom_classes=('widget-interact',))"
      ]
     },
     "metadata": {},
     "output_type": "display_data"
    }
   ],
   "source": [
    "def integralcontrollerDemo(kp=1,ki=0):\n",
    "    Fg = 1.*9.81\n",
    "    x = 0\n",
    "    gamma = 0.3\n",
    "    desired = 100\n",
    "    T = 0.01\n",
    "    positionList = []\n",
    "    summederror = 0 \n",
    "    for i in range(2000):\n",
    "        v = 1.*gamma*(desired-x) -Fg\n",
    "        summederror += 1.*gamma*(desired-x)\n",
    "        x = x + kp*v*T+ki*summederror*T\n",
    "        positionList.append(x)\n",
    "    plt.figure()\n",
    "    plt.plot(positionList)\n",
    "    plt.plot()\n",
    "    \n",
    "interact(integralcontrollerDemo,kp=(0.1,10),ki=(0.0000000,0.01,0.0001));"
   ]
  },
  {
   "cell_type": "markdown",
   "metadata": {},
   "source": [
    "So, even the smallest amount of integral control is able to cause the system to eventually converge, but too much intergral control cause the system to overshoot. You can think about this as being that the integral control stores too much error while the system is still climbing, and then when the system hits the top the integral controler has to try to disipate all of its generated error.\n",
    "So, if we are doing this digitally we actually can make a small non-linear improvement to this controller. We can set the highest value that the integral controller can sum to."
   ]
  },
  {
   "cell_type": "code",
   "execution_count": 27,
   "metadata": {},
   "outputs": [
    {
     "data": {
      "application/vnd.jupyter.widget-view+json": {
       "model_id": "70d1c5ea58f94caa8d24ee448394c317",
       "version_major": 2,
       "version_minor": 0
      },
      "text/html": [
       "<p>Failed to display Jupyter Widget of type <code>interactive</code>.</p>\n",
       "<p>\n",
       "  If you're reading this message in Jupyter Notebook or JupyterLab, it may mean\n",
       "  that the widgets JavaScript is still loading. If this message persists, it\n",
       "  likely means that the widgets JavaScript library is either not installed or\n",
       "  not enabled. See the <a href=\"https://ipywidgets.readthedocs.io/en/stable/user_install.html\">Jupyter\n",
       "  Widgets Documentation</a> for setup instructions.\n",
       "</p>\n",
       "<p>\n",
       "  If you're reading this message in another notebook frontend (for example, a static\n",
       "  rendering on GitHub or <a href=\"https://nbviewer.jupyter.org/\">NBViewer</a>),\n",
       "  it may mean that your frontend doesn't currently support widgets.\n",
       "</p>\n"
      ],
      "text/plain": [
       "interactive(children=(FloatSlider(value=1.0, description=u'kp', max=10.0, min=0.1), FloatSlider(value=0.0, description=u'ki', max=0.01, step=0.0001), IntSlider(value=100, description=u'maxsum', max=1000), Output()), _dom_classes=('widget-interact',))"
      ]
     },
     "metadata": {},
     "output_type": "display_data"
    }
   ],
   "source": [
    "def integralcontrollerwithmaxsumDemo(kp=1,ki=0,maxsum=100):\n",
    "    Fg = 1.*9.81\n",
    "    x = 0\n",
    "    gamma = 0.3\n",
    "    desired = 100\n",
    "    T = 0.01\n",
    "    positionList = []\n",
    "    summederror = 0 \n",
    "    for i in range(2000):\n",
    "        v = 1.*gamma*(desired-x) -Fg\n",
    "        if(summederror < maxsum):\n",
    "            summederror += 1.*gamma*(desired-x)\n",
    "        x = x + kp*v*T+ki*summederror*T\n",
    "        positionList.append(x)\n",
    "    plt.figure()\n",
    "    plt.plot(positionList)\n",
    "    plt.plot()\n",
    "    \n",
    "interact(integralcontrollerwithmaxsumDemo,kp=(0.1,10),ki=(0.0000000,0.01,0.0001),maxsum=(0,1000));"
   ]
  },
  {
   "cell_type": "raw",
   "metadata": {},
   "source": [
    "Cool, so we can crank the integral controller all of the way up and set maxsum such that we don't obtain any kind of overshoot. What is the downside of this however?\n",
    "Well, let's have a look."
   ]
  },
  {
   "cell_type": "code",
   "execution_count": 33,
   "metadata": {},
   "outputs": [
    {
     "data": {
      "application/vnd.jupyter.widget-view+json": {
       "model_id": "a848a759ff8a40258e6f0c3e82defab5",
       "version_major": 2,
       "version_minor": 0
      },
      "text/html": [
       "<p>Failed to display Jupyter Widget of type <code>interactive</code>.</p>\n",
       "<p>\n",
       "  If you're reading this message in Jupyter Notebook or JupyterLab, it may mean\n",
       "  that the widgets JavaScript is still loading. If this message persists, it\n",
       "  likely means that the widgets JavaScript library is either not installed or\n",
       "  not enabled. See the <a href=\"https://ipywidgets.readthedocs.io/en/stable/user_install.html\">Jupyter\n",
       "  Widgets Documentation</a> for setup instructions.\n",
       "</p>\n",
       "<p>\n",
       "  If you're reading this message in another notebook frontend (for example, a static\n",
       "  rendering on GitHub or <a href=\"https://nbviewer.jupyter.org/\">NBViewer</a>),\n",
       "  it may mean that your frontend doesn't currently support widgets.\n",
       "</p>\n"
      ],
      "text/plain": [
       "interactive(children=(FloatSlider(value=1.0, description=u'kp', max=40.0, min=0.1), FloatSlider(value=0.0, description=u'ki', max=0.01, step=0.0001), IntSlider(value=100, description=u'maxsum', max=1000), FloatSlider(value=1.0, description=u'noisemagnitude'), Output()), _dom_classes=('widget-interact',))"
      ]
     },
     "metadata": {},
     "output_type": "display_data"
    }
   ],
   "source": [
    "def integralcontrollerwithmaxsumwithnoiseDemo(kp=1,ki=0,maxsum=100,noisemagnitude=1):\n",
    "    Fg = 1.*9.81\n",
    "    x = 0\n",
    "    gamma = 0.3\n",
    "    desired = 100\n",
    "    T = 0.01\n",
    "    positionList = []\n",
    "    summederror = 0 \n",
    "    noisesource = 2*noisemagnitude*np.random.random_sample(2000)-noisemagnitude\n",
    "    for i in range(2000):\n",
    "        v = 1.*gamma*(desired-x+noisesource[i]) -Fg\n",
    "        if(summederror < maxsum):\n",
    "            summederror += 1.*gamma*(desired-x)\n",
    "        x = x + kp*v*T+ki*summederror*T\n",
    "        positionList.append(x)\n",
    "    plt.figure()\n",
    "    plt.plot(positionList)\n",
    "    plt.plot()\n",
    "    \n",
    "interact(integralcontrollerwithmaxsumwithnoiseDemo,kp=(0.1,40),ki=(0.0000000,0.01,0.0001),maxsum=(0,1000),noisemagnitude=(0.0,100.));"
   ]
  },
  {
   "cell_type": "markdown",
   "metadata": {},
   "source": [
    "First thing to do, turn off integral control and increase proportional control with a fixed noisemagnitude. How does the system respond? \n",
    "\n",
    "Well, as we calculated above we find that by increasing the amount of proportional gain increases the noise gets exagerated linearly. As we listed above this is a reason why even with a very simple system we can't have an infinitely fast proportional controller, it would not be able to track the desired value.\n",
    "\n",
    "So, why not PI for everything?\n",
    "It turns out that more complicated systems are not able to be controlled by a PI controller. A very simple example that we can walk through is an inverted pendulum."
   ]
  },
  {
   "cell_type": "code",
   "execution_count": null,
   "metadata": {},
   "outputs": [],
   "source": [
    "def invertedpendulumPIDemo():\n",
    "    pass"
   ]
  },
  {
   "cell_type": "markdown",
   "metadata": {},
   "source": [
    "So we can't find any values for the PI controller such that we can actually control this system. If we create a plot of the system's poles and zeros we see it looks like this:\n",
    "# SLUDDS DO THIS"
   ]
  },
  {
   "cell_type": "markdown",
   "metadata": {},
   "source": [
    "So we see that we need something a bit better than the PI contorller. And this is where our final contended steps into the controls arena:\n",
    "## Derivative Control\n",
    "\n",
    "We now have all of the tools in order to create the PID controller. This is the control jewel of non-model predictive control (basically, I don't have a model of the system, can I throw a controller on it and make it work?).\n",
    "In industry 95% of controllers are PI controllers, 4% are PID controllers and 1% are model predictive controllers ( we are getting to these).\n"
   ]
  },
  {
   "cell_type": "code",
   "execution_count": 34,
   "metadata": {},
   "outputs": [],
   "source": [
    "def PIDdemo():\n",
    "    pass"
   ]
  },
  {
   "cell_type": "markdown",
   "metadata": {},
   "source": [
    "## I feel like I should be adding a closing comment on PID control here"
   ]
  },
  {
   "cell_type": "markdown",
   "metadata": {},
   "source": [
    "Okay, so why do we want anything else? All of the cool kids say \"I threw a PID controller on it and it worked\", but the same cool kids jump off cliffs and want you to follow so take their words with a grain of salt.\n",
    "\n",
    "Into the arena comes:\n",
    "## Model Predictive Control\n",
    "So, one limitation of our current controllers is that they only measure information from one source and output to one source, but what about if we wanted to measure from measure from multiple sources and output to multiple motors? An example of where you want to do this is with a quadcopter. You have multiple things you are sensing (roll, pitch, yaw, elevation, etc) and the motors. In fact, motor quadcopters with have ~60 things that they are sensing and want to predict based on their model of the system what the based thing they should do with the motors is.\n",
    "In general, model predictive control is a HUGE field. If you want to learn more, take 6.302 (best class!) this Spring.\n",
    "Let's look at an example of model predictive control with an inverted pendulum:\n"
   ]
  },
  {
   "cell_type": "code",
   "execution_count": 35,
   "metadata": {},
   "outputs": [],
   "source": [
    "def invertedpendulummodelpredictiveDemo():\n",
    "    pass\n",
    "\n"
   ]
  },
  {
   "cell_type": "markdown",
   "metadata": {},
   "source": [
    "# I feel like this here needs more content"
   ]
  },
  {
   "cell_type": "markdown",
   "metadata": {},
   "source": [
    "So, there are a few things that we can talk about with regard to model predictive control.\n",
    "\n",
    "The first is what kind of systems are controllable?\n",
    "For a state in a system to be controllable means that the controller on the system is able to make that state track the value we want it to track.\n",
    "\n",
    "# Sludds defined controllable\n",
    "\n",
    "Next is what kind of states are observable?\n",
    "Observability is a really interesting thing in our system. With a very good model of our system we can say that there are things that we want to sense that are related to other things that we are sensing in our system. For example, in rocket design we want to be able to sense the stress on the fusalage of the rocket. However, putting strain-gauages all along the side of the rocket is a horrible idea (they get heavy, change aerodynamics, burn up as you travel through the atmosphere etc). So, what NASA/SpaceX/yuppie rocket startup will do is have a ton of sensors inside of their rocket which from simulation they are able to return a huge matrix representing the model of the system. They hope that, the states that they care about (strain/stress on fusalage in this example, in reality they might have 1000 or so states that they want to make sure that they can observe reasonably well).\n",
    "Mathematically observability is defined as the following:\n",
    "\n",
    "# Sludds defined observability\n",
    "\n",
    "\n",
    "Finally, we can talk about the Kalman Filter. \n",
    "With our state space model of the system we assume that the model has a certain amount of fixed weight and that the incoming data has a certain amount of fixed weight. However, with the Kalman Filter we are assuming that that weight updates as a function of how sure we are that the incoming data is reliable. Essentially, if the sensors start freaking out from how we think they should perform we are going to move towards our model to minimize the effect of defective sensors on the controller. If our model starts freaking out (maybe because it is a poor model) we will rely on the sensors more. This turns out to be the provably most optimal filter for systems with Gaussian noise. \n",
    "\n",
    "\n",
    "So, the takeaway from today's lecture:\n",
    "If you don't have a model of your system and it is reasonably simple, throw a PID controller on it and play with the parameters until it works.\n",
    "If you do have a model of your system, first prove that it is a controlable system using the definition of controlability that we talked about above. Then, throw a Kalman filter on top of it. This is honestly has a very large amount of industrial controls are done and with this knowledge you should be able to control just about anything that you want to."
   ]
  }
 ],
 "metadata": {
  "kernelspec": {
   "display_name": "Python 2",
   "language": "python",
   "name": "python2"
  },
  "language_info": {
   "codemirror_mode": {
    "name": "ipython",
    "version": 2
   },
   "file_extension": ".py",
   "mimetype": "text/x-python",
   "name": "python",
   "nbconvert_exporter": "python",
   "pygments_lexer": "ipython2",
   "version": "2.7.12"
  }
 },
 "nbformat": 4,
 "nbformat_minor": 2
}
