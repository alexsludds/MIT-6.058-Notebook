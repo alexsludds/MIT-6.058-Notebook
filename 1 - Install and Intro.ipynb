{
 "cells": [
  {
   "cell_type": "markdown",
   "metadata": {},
   "source": [
    "# WELCOME TO 6.058!\n",
    "\n",
    "This semester we are going to use jupyter-notebooks. Notebooks are super awesome in that they allow us to focus on graphically displaying data and also allow us to execute code out of order if we want to do something funky.\n",
    "Consider the segment of code below:"
   ]
  },
  {
   "cell_type": "code",
   "execution_count": 2,
   "metadata": {},
   "outputs": [],
   "source": [
    "import numpy as np\n",
    "import scipy as sp\n",
    "import scipy.signal as signal\n",
    "import matplotlib.pyplot as plt\n",
    "import IPython.display as ipd\n",
    "from ipywidgets import interact"
   ]
  },
  {
   "cell_type": "markdown",
   "metadata": {},
   "source": [
    "We can execute this segment of code by clicking on it and pressing control + enter. (if this throws an error then talk to me, your software is not installed correctly).\n",
    "\n",
    "However, for most of the exercises in this course we won't be loading code one segment at a time. So, the first thing I am going to ask you to do in each notebook is to press cell up top and then Run All. This runs all code segments at the same time. Do that now!"
   ]
  },
  {
   "cell_type": "markdown",
   "metadata": {},
   "source": [
    "In this course we are going to be using python with numpy and scipy in order to create a lot of our software to do signal processing. We are going to access our python knowledge below. If you can't perform any of these exercises please talk to me, we can get you up to speed super fast :) "
   ]
  },
  {
   "cell_type": "markdown",
   "metadata": {},
   "source": [
    "Write a function called squarer which uses a for loop in order to square all of the elements in the list of the input signal."
   ]
  },
  {
   "cell_type": "code",
   "execution_count": 22,
   "metadata": {},
   "outputs": [
    {
     "name": "stdout",
     "output_type": "stream",
     "text": [
      "0\n",
      "1\n",
      "4\n",
      "9\n",
      "16\n",
      "25\n",
      "36\n",
      "49\n",
      "None\n"
     ]
    }
   ],
   "source": [
    "def squarer(inputsignal):\n",
    "    for i in inputsignal:\n",
    "        print(i**2)\n",
    "print(squarer([0,1,2,3,4,5,6,7]))"
   ]
  },
  {
   "cell_type": "markdown",
   "metadata": {},
   "source": [
    "Now do the same thing using a list comprehension"
   ]
  },
  {
   "cell_type": "code",
   "execution_count": 24,
   "metadata": {},
   "outputs": [
    {
     "name": "stdout",
     "output_type": "stream",
     "text": [
      "[0, 1, 4, 9, 16, 25, 36, 49]\n"
     ]
    }
   ],
   "source": [
    "returned_squarer = [x**2 for x in range(8)]\n",
    "print(returned_squarer)"
   ]
  },
  {
   "cell_type": "markdown",
   "metadata": {},
   "source": [
    "Create a numpy array of one's with length 18.\n",
    "Sum all of the elements of the array. np.ones might be useful!"
   ]
  },
  {
   "cell_type": "code",
   "execution_count": 25,
   "metadata": {},
   "outputs": [
    {
     "name": "stdout",
     "output_type": "stream",
     "text": [
      "[ 1.  1.  1.  1.  1.  1.  1.  1.  1.  1.  1.  1.  1.  1.  1.  1.  1.  1.]\n"
     ]
    }
   ],
   "source": [
    "def onesandsum():\n",
    "    return np.ones(18)\n",
    "print(onesandsum())"
   ]
  },
  {
   "cell_type": "markdown",
   "metadata": {},
   "source": [
    "There will be a lot of times when we have to plot data. We are going to have two ways of ploting things. \n",
    "First in using matplotlib.pyplot.plot https://matplotlib.org/api/_as_gen/matplotlib.pyplot.plot.html\n",
    "\n",
    "You can use this function using plt.plot() followed by plt.show()\n",
    "Write a function below to do it with the supplies list of data"
   ]
  },
  {
   "cell_type": "code",
   "execution_count": 26,
   "metadata": {},
   "outputs": [
    {
     "data": {
      "image/png": "[encoded data removed]",
      "text/plain": [
       "<matplotlib.figure.Figure at 0x7f40f4c7c278>"
      ]
     },
     "metadata": {},
     "output_type": "display_data"
    }
   ],
   "source": [
    "datalist = [1,2,3,4,5,6,7,8,9]\n",
    "def plotdata(datalist):\n",
    "    plt.figure()\n",
    "    plt.plot(datalist)\n",
    "    plt.show()\n",
    "plotdata(datalist)"
   ]
  },
  {
   "cell_type": "markdown",
   "metadata": {},
   "source": [
    "We can also using plt.imshow() to display data from a matrix.\n",
    "Create a function below to display the given matrix"
   ]
  },
  {
   "cell_type": "code",
   "execution_count": 29,
   "metadata": {},
   "outputs": [
    {
     "data": {
      "image/png": "[encoded data removed]",
      "text/plain": [
       "<matplotlib.figure.Figure at 0x7f40f4c8f438>"
      ]
     },
     "metadata": {},
     "output_type": "display_data"
    }
   ],
   "source": [
    "matrix = np.array([[1,2,3],[4,5,6],[7,8,9]])\n",
    "def plotmatrix(matrix):\n",
    "    plt.figure()\n",
    "    plt.imshow(matrix,origin='lower')\n",
    "    plt.show()\n",
    "plotmatrix(matrix)"
   ]
  },
  {
   "cell_type": "markdown",
   "metadata": {},
   "source": [
    "Finally we will be using IPyWidget interacts in this class to make our graphs and functions change on the fly. For example, consider this demo where we use a slider and plot that number:\n",
    "NOTE: On most all plots I add a DPI slider (dots per inch) this is just to make the graphs bigger and smaller so that they can fit your screen size better."
   ]
  },
  {
   "cell_type": "code",
   "execution_count": 30,
   "metadata": {},
   "outputs": [
    {
     "data": {
      "application/vnd.jupyter.widget-view+json": {
       "model_id": "6fffeb476537475484abd8252d2c585c",
       "version_major": 2,
       "version_minor": 0
      },
      "text/html": [
       "<p>Failed to display Jupyter Widget of type <code>interactive</code>.</p>\n",
       "<p>\n",
       "  If you're reading this message in the Jupyter Notebook or JupyterLab Notebook, it may mean\n",
       "  that the widgets JavaScript is still loading. If this message persists, it\n",
       "  likely means that the widgets JavaScript library is either not installed or\n",
       "  not enabled. See the <a href=\"https://ipywidgets.readthedocs.io/en/stable/user_install.html\">Jupyter\n",
       "  Widgets Documentation</a> for setup instructions.\n",
       "</p>\n",
       "<p>\n",
       "  If you're reading this message in another frontend (for example, a static\n",
       "  rendering on GitHub or <a href=\"https://nbviewer.jupyter.org/\">NBViewer</a>),\n",
       "  it may mean that your frontend doesn't currently support widgets.\n",
       "</p>\n"
      ],
      "text/plain": [
       "interactive(children=(IntSlider(value=100, description='dpi', max=300, min=70), IntSlider(value=2, description='inputNum', max=10, min=1), Output()), _dom_classes=('widget-interact',))"
      ]
     },
     "metadata": {},
     "output_type": "display_data"
    }
   ],
   "source": [
    "def interactDemo(dpi=100,inputNum=2):\n",
    "    plottable = [inputNum for x in range(10)]\n",
    "    plt.figure(dpi)\n",
    "    plt.ylim(ymin=0,ymax=11)\n",
    "    plt.plot(plottable)\n",
    "    plt.show()\n",
    "interact(interactDemo,dpi=(70,300),inputNum=(1,10));"
   ]
  },
  {
   "cell_type": "markdown",
   "metadata": {},
   "source": [
    "# Signals and Systems Content\n",
    "\n",
    "Great, so we have covered some basics on how we are going to use the software. Let's dive into some content."
   ]
  },
  {
   "cell_type": "markdown",
   "metadata": {},
   "source": [
    "Today we are going to examine some basic syntax on what a signal and system are.\n",
    "The first signal we are concerned with is the impulse (or delta) function: This is the plot of a delta function $\\delta[n]$ (ignore the x-axis)."
   ]
  },
  {
   "cell_type": "code",
   "execution_count": 9,
   "metadata": {},
   "outputs": [
    {
     "data": {
      "application/vnd.jupyter.widget-view+json": {
       "model_id": "a35bdfb6b5a64c6c802b64fb507a1337",
       "version_major": 2,
       "version_minor": 0
      },
      "text/html": [
       "<p>Failed to display Jupyter Widget of type <code>interactive</code>.</p>\n",
       "<p>\n",
       "  If you're reading this message in the Jupyter Notebook or JupyterLab Notebook, it may mean\n",
       "  that the widgets JavaScript is still loading. If this message persists, it\n",
       "  likely means that the widgets JavaScript library is either not installed or\n",
       "  not enabled. See the <a href=\"https://ipywidgets.readthedocs.io/en/stable/user_install.html\">Jupyter\n",
       "  Widgets Documentation</a> for setup instructions.\n",
       "</p>\n",
       "<p>\n",
       "  If you're reading this message in another frontend (for example, a static\n",
       "  rendering on GitHub or <a href=\"https://nbviewer.jupyter.org/\">NBViewer</a>),\n",
       "  it may mean that your frontend doesn't currently support widgets.\n",
       "</p>\n"
      ],
      "text/plain": [
       "interactive(children=(IntSlider(value=100, description='dpi', max=200, min=70), Output()), _dom_classes=('widget-interact',))"
      ]
     },
     "metadata": {},
     "output_type": "display_data"
    }
   ],
   "source": [
    "impulse = signal.unit_impulse(20,idx='mid')\n",
    "def impulseDemo(dpi=100):\n",
    "    plt.figure(dpi=dpi)\n",
    "    plt.plot(impulse,'ro')\n",
    "    plt.show()\n",
    "interact(impulseDemo,dpi=(70,200));"
   ]
  },
  {
   "cell_type": "markdown",
   "metadata": {},
   "source": [
    "Great, we drew a pretty impulse, but what use is this?\n",
    "First thing first, impulses are VERY useful for being able to model a general discrete signal.\n",
    "For example, consider this simple signal:\n"
   ]
  },
  {
   "cell_type": "code",
   "execution_count": 31,
   "metadata": {},
   "outputs": [
    {
     "data": {
      "text/plain": [
       "<matplotlib.figure.Figure at 0x7f40f3d2f4a8>"
      ]
     },
     "metadata": {},
     "output_type": "display_data"
    },
    {
     "data": {
      "image/png": "[encoded data removed]",
      "text/plain": [
       "<matplotlib.figure.Figure at 0x7f40f3d2f438>"
      ]
     },
     "metadata": {},
     "output_type": "display_data"
    }
   ],
   "source": [
    "simplesignal = [0,0,0,1,2,3,0,0,0]\n",
    "plt.figure()\n",
    "fig, ax = plt.subplots()\n",
    "plt.plot(simplesignal,'ro')\n",
    "ax.set_xticklabels(range(-3,len(simplesignal)-3))\n",
    "plt.show()"
   ]
  },
  {
   "cell_type": "markdown",
   "metadata": {},
   "source": [
    "For this simple signal we could use the following notation to represent it:\n",
    "$$\\delta[n-1] + 2\\delta[n-2] + 3\\delta[n-3]$$"
   ]
  },
  {
   "cell_type": "markdown",
   "metadata": {},
   "source": [
    "As a matter of fact, all discrete signals can be represented of the form:\n",
    "$$ \\text{signal}[n] = \\sum_{i=\\infty}^{\\infty}a_{i}\\delta[n-i]$$ where $a_{i}$ is the value at that position.\n",
    "\n",
    "We will now have our first example of a homework exercise inside of the notebook.\n",
    "We have two ways of doing homework in the course, exercises inside of the notebook using software and exercises in the form of psets. Some theory is pset done on pen and paper and the applied work is best done in software. We are going to use both to make sure you understand the material.\n",
    "\n",
    "## Homework Exercise\n",
    "\n",
    "Create a plot of the function $$5\\delta[n-2] + 2\\delta[n-3] + 0.5\\delta[n-4] $$"
   ]
  },
  {
   "cell_type": "code",
   "execution_count": 11,
   "metadata": {},
   "outputs": [],
   "source": [
    "def homework1():\n",
    "    pass"
   ]
  },
  {
   "cell_type": "markdown",
   "metadata": {},
   "source": [
    "In addition to being able to model discrete signals we will also use delta functions to characterize how systems perform. We will get into this later, but it is useful to keep in mind that this is INCREDIBLY useful."
   ]
  },
  {
   "cell_type": "markdown",
   "metadata": {},
   "source": [
    "The next signal we are going to consider is the unit step function, which looks like this:\n"
   ]
  },
  {
   "cell_type": "code",
   "execution_count": 32,
   "metadata": {},
   "outputs": [
    {
     "data": {
      "text/plain": [
       "<matplotlib.figure.Figure at 0x7f40f3d1bfd0>"
      ]
     },
     "metadata": {},
     "output_type": "display_data"
    },
    {
     "data": {
      "image/png": "[encoded data removed]",
      "text/plain": [
       "<matplotlib.figure.Figure at 0x7f40f3d1be10>"
      ]
     },
     "metadata": {},
     "output_type": "display_data"
    }
   ],
   "source": [
    "impulse = [1 if x > 0 else 0  for x in range(-5,5)]\n",
    "plt.figure()\n",
    "fig, ax = plt.subplots()\n",
    "plt.plot(impulse,'bo')\n",
    "ax.set_xticklabels(range(-4,len(impulse)-4))\n",
    "plt.show()"
   ]
  },
  {
   "cell_type": "markdown",
   "metadata": {},
   "source": [
    "So we now have the two most critical signals you will ever use. They are particularly useful when we seek to model systems. The impulse function we showed above can be throught of as an instant strike to the system in some way (mechanical systems getting hit by something, electrical systems exerience a voltage spike, chemical systems having a new reactant introduced etc). This is VERY useful as for a WIDE class of systems the impulse response is going to inform us of how the system will behave for ANY input that we can put into it!\n",
    "The unit step response is another useful tool. You can think of it as a gust of wind hitting an airplane, a constant voltage offset in an electrical system, constant force in mechanical systems. Often times depending on the type of system creating an ideal impulse is difficult / measuring it is hard so we use the unit step to derive the same information. You will prove on the PSET (Problem 5) that the response from a unit step and the response from a unit impulse are relatable for a certain class of systems."
   ]
  },
  {
   "cell_type": "markdown",
   "metadata": {},
   "source": [
    "Great! We have tools to derive properties of systems. Now we just need to learn about what classes of systems we can use the properties on."
   ]
  },
  {
   "cell_type": "markdown",
   "metadata": {},
   "source": [
    "By far the easiest type of system is a Linear - Time Invarient System.\n",
    "Linearity means that given the system f it obeys the following:\n",
    "$$ f(a) + f(b) = f(a+b) $$\n",
    "That is, the response of the system to two inputs seperatly is the same as the response to both at the same time.\n",
    "\n",
    "For many systems this is a reasonable approximation, if I push a block twice as hard it accelerates twice as much.\n",
    "For other systems it is not as reasonable, pushing someone on a swing twice as hard does not make them go twice as high.\n",
    "\n",
    "Time Invarience means this:\n",
    "$$ (x[n] \\text{ results in  } y[n]) \\text{  implies  } (x[n+k] \\text{  result in  } y[n+k]) $$\n",
    "\n",
    "This means that the system's response does not change over time. For almost all systems this is true (your airplane does not degrade in flight hopefully, your circuit does not change based on the seasons etc) however for some systems it is not true (chemical processes have plenty of examples of these).\n",
    "\n",
    "Finally, one property that we will bring up in this class sparingly, causality:\n",
    "A system is causal if its output at time t only depends on inputs from times t and before. As you can tell this is a really useless property in practice because everything is causal. If it were not causal then we would have figured out time travel. But for theory purposes sometimes we have to note that we are making the restriction to causal systems to make a proof work.\n",
    "\n",
    "As a side note: we will start using the abreviation LTI instead of saying Linear - Time Invarient Systems.\n",
    "\n",
    "So, now we will compute our first output from a system.\n",
    "\n",
    "So, suppose we have a system of the form:\n",
    "$$ y[n] = x[n] + 3x[n-1]$$\n",
    "Create a plot of the impulse response of the system as well as the step response.\n",
    "\n",
    "## Homework Exercise"
   ]
  },
  {
   "cell_type": "code",
   "execution_count": 13,
   "metadata": {},
   "outputs": [],
   "source": [
    "def plotImpulseResponse():\n",
    "    pass\n",
    "plotImpulseResponse()"
   ]
  },
  {
   "cell_type": "code",
   "execution_count": 14,
   "metadata": {},
   "outputs": [],
   "source": [
    "def plotStepResponse():\n",
    "    pass\n",
    "plotStepResponse()"
   ]
  },
  {
   "cell_type": "markdown",
   "metadata": {},
   "source": [
    "So, it is very convenient for us to be able to write these systems by hand and solve them, but as they get more and more complex we will start to experience handaches from the computation. Thankfully we can have code take care of it for us. The below snippet of code is finding the impulse response of the system. The one afterwards finds the step response. Verify that your homework solutions match these plots."
   ]
  },
  {
   "cell_type": "code",
   "execution_count": 33,
   "metadata": {},
   "outputs": [
    {
     "data": {
      "image/png": "[encoded data removed]",
      "text/plain": [
       "<matplotlib.figure.Figure at 0x7f40f4bd1438>"
      ]
     },
     "metadata": {},
     "output_type": "display_data"
    }
   ],
   "source": [
    "xs = [1,3,0]\n",
    "ys = [1,0,0]\n",
    "sys = signal.TransferFunction(xs, ys,dt=1.0)\n",
    "tout,yout = signal.dimpulse(sys)\n",
    "plt.figure()\n",
    "plt.plot(tout[0:10],yout[0][0:10],'o')\n",
    "plt.show()"
   ]
  },
  {
   "cell_type": "code",
   "execution_count": 34,
   "metadata": {},
   "outputs": [
    {
     "data": {
      "image/png": "[encoded data removed]",
      "text/plain": [
       "<matplotlib.figure.Figure at 0x7f40f3e11d30>"
      ]
     },
     "metadata": {},
     "output_type": "display_data"
    }
   ],
   "source": [
    "xs = [1,3,0]\n",
    "ys = [1,0,0]\n",
    "sys = signal.TransferFunction(xs, ys,dt=1.0)\n",
    "tout,yout = signal.dstep(sys)\n",
    "plt.figure()\n",
    "plt.plot(tout[0:10],yout[0][0:10],'o')\n",
    "plt.show()"
   ]
  },
  {
   "cell_type": "markdown",
   "metadata": {},
   "source": [
    "So the impulse response looks how we think it should look :D\n",
    "Can you use a similar piece of a code to make the step response for this system:\n",
    "$$y[n] - y[n-1] = x[n] + x[n-1]$$\n",
    "## Homework Exercise"
   ]
  },
  {
   "cell_type": "code",
   "execution_count": 17,
   "metadata": {},
   "outputs": [],
   "source": [
    "def stepresponse2():\n",
    "    pass\n",
    "stepresponse2()"
   ]
  },
  {
   "cell_type": "markdown",
   "metadata": {},
   "source": [
    "## Homework Exercise\n",
    "Why does this output settle at 4? Think about what the interaction between $y[n]$ and $y[n-1]$ is.\n",
    "\n",
    "WRITE ANSWER HERE"
   ]
  },
  {
   "cell_type": "markdown",
   "metadata": {},
   "source": [
    "Consider the below system. You have a slider for tweaking r in the input.\n",
    "The system looks like this:\n",
    "$ y[n] - y[n-1] = x[n] + rx[n-1]$."
   ]
  },
  {
   "cell_type": "code",
   "execution_count": 35,
   "metadata": {},
   "outputs": [
    {
     "data": {
      "application/vnd.jupyter.widget-view+json": {
       "model_id": "9a39fa4bcd4a4462981ea1c8cd028a97",
       "version_major": 2,
       "version_minor": 0
      },
      "text/html": [
       "<p>Failed to display Jupyter Widget of type <code>interactive</code>.</p>\n",
       "<p>\n",
       "  If you're reading this message in the Jupyter Notebook or JupyterLab Notebook, it may mean\n",
       "  that the widgets JavaScript is still loading. If this message persists, it\n",
       "  likely means that the widgets JavaScript library is either not installed or\n",
       "  not enabled. See the <a href=\"https://ipywidgets.readthedocs.io/en/stable/user_install.html\">Jupyter\n",
       "  Widgets Documentation</a> for setup instructions.\n",
       "</p>\n",
       "<p>\n",
       "  If you're reading this message in another frontend (for example, a static\n",
       "  rendering on GitHub or <a href=\"https://nbviewer.jupyter.org/\">NBViewer</a>),\n",
       "  it may mean that your frontend doesn't currently support widgets.\n",
       "</p>\n"
      ],
      "text/plain": [
       "interactive(children=(FloatSlider(value=0.0, description='r', max=1.0, min=-1.0), Output()), _dom_classes=('widget-interact',))"
      ]
     },
     "metadata": {},
     "output_type": "display_data"
    }
   ],
   "source": [
    "def impulseresponse2(r):\n",
    "    xs = [1,r,0]\n",
    "    ys = [1,-1,0]\n",
    "    sys = signal.TransferFunction(xs, ys,dt=1.0)\n",
    "    tout,yout = signal.dimpulse(sys)\n",
    "    plt.figure()\n",
    "    plt.ylim(ymin=-0.5,ymax=2)\n",
    "    plt.plot(tout[0:10],yout[0][0:10],'o')\n",
    "    plt.show()\n",
    "    \n",
    "interact(impulseresponse2, r=(-1.0,1.0));"
   ]
  },
  {
   "cell_type": "markdown",
   "metadata": {},
   "source": [
    "We must also look at a step response and consider what it looks like.\n",
    "Let's look at the step response of the following system:"
   ]
  },
  {
   "cell_type": "code",
   "execution_count": 36,
   "metadata": {},
   "outputs": [
    {
     "data": {
      "application/vnd.jupyter.widget-view+json": {
       "model_id": "2763f59d20554a6185467e80cf962dec",
       "version_major": 2,
       "version_minor": 0
      },
      "text/html": [
       "<p>Failed to display Jupyter Widget of type <code>interactive</code>.</p>\n",
       "<p>\n",
       "  If you're reading this message in the Jupyter Notebook or JupyterLab Notebook, it may mean\n",
       "  that the widgets JavaScript is still loading. If this message persists, it\n",
       "  likely means that the widgets JavaScript library is either not installed or\n",
       "  not enabled. See the <a href=\"https://ipywidgets.readthedocs.io/en/stable/user_install.html\">Jupyter\n",
       "  Widgets Documentation</a> for setup instructions.\n",
       "</p>\n",
       "<p>\n",
       "  If you're reading this message in another frontend (for example, a static\n",
       "  rendering on GitHub or <a href=\"https://nbviewer.jupyter.org/\">NBViewer</a>),\n",
       "  it may mean that your frontend doesn't currently support widgets.\n",
       "</p>\n"
      ],
      "text/plain": [
       "interactive(children=(FloatSlider(value=0.0, description='r', max=2.0, min=-2.0), Output()), _dom_classes=('widget-interact',))"
      ]
     },
     "metadata": {},
     "output_type": "display_data"
    }
   ],
   "source": [
    "def stepresponse3(r):\n",
    "    xs = [1,r,0]\n",
    "    ys = [1,-1,0]\n",
    "    sys = signal.TransferFunction(xs, ys,dt=1.0)\n",
    "    tout,yout = signal.dstep(sys)\n",
    "    plt.figure()\n",
    "    plt.ylim(ymin=-10,ymax=25)\n",
    "    plt.plot(tout[0:10],yout[0][0:10],'o')\n",
    "    plt.show()\n",
    "    \n",
    "interact(stepresponse3, r=(-2.0,2.0));"
   ]
  },
  {
   "cell_type": "markdown",
   "metadata": {},
   "source": [
    "Cool! We now have some analysis tools that we can use. \n",
    "Let's do some modeling in order to use them on real systems.\n",
    "First part, we are going to consider a heating system.\n",
    "Now, heating systems often have some kind of thermal mass, $M$ and some loss $R$\n",
    "We are going to model the system using the equation:\n",
    "$$T_{Heater}[n] =  T_{Room}[n] + R \\times M \\times \\frac{d T_{Room}[n]}{dt}$$\n",
    "To figure out where this equation comes from, remember from thermo that Heat in = Heat out + Heat stored.\n",
    "\n",
    "Finish the below function to find the impulse and step function of this model using $$R=1,M=5$$. What is a derivative in discrete time (if unsure look at the PSET)?"
   ]
  },
  {
   "cell_type": "code",
   "execution_count": 37,
   "metadata": {},
   "outputs": [
    {
     "data": {
      "image/png": "[encoded data removed]",
      "text/plain": [
       "<matplotlib.figure.Figure at 0x7f40f3d1bc88>"
      ]
     },
     "metadata": {},
     "output_type": "display_data"
    },
    {
     "data": {
      "image/png": "[encoded data removed]",
      "text/plain": [
       "<matplotlib.figure.Figure at 0x7f40f3d74e80>"
      ]
     },
     "metadata": {},
     "output_type": "display_data"
    }
   ],
   "source": [
    "def temperaturemodel(R=1,M=5):\n",
    "    xs = [1]\n",
    "    ys = [1]\n",
    "    sys = signal.TransferFunction(xs, ys,dt=1.0)\n",
    "    iout,iyout = signal.dimpulse(sys)\n",
    "    tout,yout = signal.dstep(sys)\n",
    "    plt.figure()\n",
    "    plt.plot(tout[0:10],yout[0][0:10],'o')\n",
    "    plt.show()\n",
    "    plt.figure()\n",
    "    plt.plot(iout[0:10],iyout[0][0:10],'o')\n",
    "    plt.show()\n",
    "    \n",
    "temperaturemodel()"
   ]
  },
  {
   "cell_type": "markdown",
   "metadata": {},
   "source": [
    "## Homework Exercise\n",
    "\n",
    "Solve the differential equation for continuous time. Does this match what the differential equation tells you for continuous time step and impulse response? Write the continious time impulse and step response equations here $$\\text{impulse response equation}$$\n",
    "$$\\text{step response equation}$$"
   ]
  },
  {
   "cell_type": "markdown",
   "metadata": {},
   "source": [
    "## Homework Exercise\n",
    "\n",
    "Create a plot of the impulse and step responses you calculated by hand above"
   ]
  },
  {
   "cell_type": "code",
   "execution_count": 21,
   "metadata": {},
   "outputs": [],
   "source": [
    "def temperatureImpulsePlot():\n",
    "    pass\n",
    "\n",
    "temperatureImpulsePlot()"
   ]
  },
  {
   "cell_type": "markdown",
   "metadata": {},
   "source": [
    "## Thinking about non-LTI systems"
   ]
  },
  {
   "cell_type": "markdown",
   "metadata": {},
   "source": [
    "So we have been thinking about LTI systems and their responses, but what about non-LTI systems?\n",
    "In general, if something is not LTI then it can behave in many violent ways. For LTI systems in the abscene of an input there will always be a zero output. However for non-linear systems this does not hold true. In fact, for non-linear systems chaotic behavior can occur. Unfortunately right now we don't have the tools to start analyzing non-linear systems. The best we can do is to get the differentialy equations and solve them analytically / numerically. However, in lecture 7 of the course we will talk about the laplace transform, which can be used as a tool to start analyzing non-linear systems."
   ]
  }
 ],
 "metadata": {
  "kernelspec": {
   "display_name": "Python 3",
   "language": "python",
   "name": "python3"
  },
  "language_info": {
   "codemirror_mode": {
    "name": "ipython",
    "version": 3
   },
   "file_extension": ".py",
   "mimetype": "text/x-python",
   "name": "python",
   "nbconvert_exporter": "python",
   "pygments_lexer": "ipython3",
   "version": "3.5.2"
  }
 },
 "nbformat": 4,
 "nbformat_minor": 2
}
