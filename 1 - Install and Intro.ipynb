{
 "cells": [
  {
   "cell_type": "markdown",
   "metadata": {},
   "source": [
    "# WELCOME TO 6.058!\n",
    "\n",
    "This semester we are going to use jupyter-notebooks. Notebooks are super awesome in that they allow us to focus on graphically displaying data and also allow us to execute code out of order if we want to do something funky.\n",
    "Consider the segment of code below:"
   ]
  },
  {
   "cell_type": "code",
   "execution_count": 12,
   "metadata": {},
   "outputs": [],
   "source": [
    "import numpy as np\n",
    "import scipy as sp\n",
    "import scipy.signal as signal\n",
    "import matplotlib.pyplot as plt\n",
    "import IPython.display as ipd\n",
    "from ipywidgets import interact"
   ]
  },
  {
   "cell_type": "markdown",
   "metadata": {},
   "source": [
    "We can execute this segment of code by clicking on it and pressing shift + enter. (if this does not work then talk to me, your software is not installed correctly).\n",
    "\n",
    "However, for most of the exercises in this course we won't be loading code one segment at a time. So, the first thing I am going to ask you to do in each notebook is to press cell up top and then Run All. This runs all code segments at the same time. Do that now!"
   ]
  },
  {
   "cell_type": "markdown",
   "metadata": {},
   "source": [
    "In this course we are going to be using python with numpy and scipy in order to create a lot of our software to do signal processing. We are going to access our python knowledge below. If you can't perform any of these exercises please talk to me, we can get you up to speed super fast :) "
   ]
  },
  {
   "cell_type": "markdown",
   "metadata": {},
   "source": [
    "Write a function called squarer which uses a for loop in order to square all of the elements in the list of the input signal."
   ]
  },
  {
   "cell_type": "code",
   "execution_count": 2,
   "metadata": {},
   "outputs": [
    {
     "name": "stdout",
     "output_type": "stream",
     "text": [
      "None\n"
     ]
    }
   ],
   "source": [
    "def squarer(inputsignal):\n",
    "    pass\n",
    "print(squarer([0,1,2,3,4,5,6,7]))"
   ]
  },
  {
   "cell_type": "markdown",
   "metadata": {},
   "source": [
    "Now do the same thing using a list comprehension"
   ]
  },
  {
   "cell_type": "code",
   "execution_count": 3,
   "metadata": {},
   "outputs": [
    {
     "name": "stdout",
     "output_type": "stream",
     "text": [
      "[]\n"
     ]
    }
   ],
   "source": [
    "returned_squarer = []\n",
    "print(returned_squarer)"
   ]
  },
  {
   "cell_type": "markdown",
   "metadata": {},
   "source": [
    "Create a numpy array of one's with length 18.\n",
    "Sum all of the elements of the array. np.ones might be useful!"
   ]
  },
  {
   "cell_type": "code",
   "execution_count": 13,
   "metadata": {},
   "outputs": [
    {
     "name": "stdout",
     "output_type": "stream",
     "text": [
      "<function onesandsum at 0x7f3daf1ffe18>\n"
     ]
    }
   ],
   "source": [
    "def onesandsum():\n",
    "    pass\n",
    "print(onesandsum)"
   ]
  },
  {
   "cell_type": "markdown",
   "metadata": {},
   "source": [
    "There will be a plot of times when we have to plot data. We are going to have two ways of ploting things. \n",
    "First in using matplotlib.pyplot.plot https://matplotlib.org/api/_as_gen/matplotlib.pyplot.plot.html\n",
    "\n",
    "You can use this function using plt.plot() followed by plt.show()\n",
    "Write a function below to do it with the supplies list of data"
   ]
  },
  {
   "cell_type": "code",
   "execution_count": 14,
   "metadata": {},
   "outputs": [],
   "source": [
    "datalist = [1,2,3,4,5,6,7,8,9]\n",
    "def plotdata(datalist):\n",
    "    pass\n",
    "plotdata(datalist)"
   ]
  },
  {
   "cell_type": "markdown",
   "metadata": {},
   "source": [
    "We can also using plt.imshow() to display data from a matrix.\n",
    "Create a function below to display the given matrix"
   ]
  },
  {
   "cell_type": "code",
   "execution_count": 19,
   "metadata": {},
   "outputs": [],
   "source": [
    "matrix = np.array([[1,2,3],[4,5,6],[7,8,9]])\n",
    "def plotmatrix(matrix):\n",
    "    pass\n",
    "plotmatrix(matrix)"
   ]
  },
  {
   "cell_type": "markdown",
   "metadata": {},
   "source": [
    "# Signals and Systems Content\n",
    "\n",
    "Great, so we have covered some basics on how we are going to use the software. Let's dive into some content."
   ]
  },
  {
   "cell_type": "markdown",
   "metadata": {},
   "source": [
    "Today we are going to examine some basic syntax on what a signal and system are.\n",
    "The first signal we are concerned with is the impulse (or delta) function: This is the plot of a delta function $\\delta[n]$ (ignore the x-axis)."
   ]
  },
  {
   "cell_type": "code",
   "execution_count": 20,
   "metadata": {},
   "outputs": [
    {
     "data": {
      "image/png": "[encoded data removed]",
      "text/plain": [
       "<matplotlib.figure.Figure at 0x7f3daf245f28>"
      ]
     },
     "metadata": {},
     "output_type": "display_data"
    }
   ],
   "source": [
    "impulse = signal.unit_impulse(20,idx='mid')\n",
    "plt.plot(impulse,'ro')\n",
    "plt.show()"
   ]
  },
  {
   "cell_type": "markdown",
   "metadata": {},
   "source": [
    "Great, we drew a pretty impulse, but what use is this?\n",
    "First thing first, impulses are VERY useful for being able to model a general discrete signal.\n",
    "For sample, consider this simple signal:\n"
   ]
  },
  {
   "cell_type": "code",
   "execution_count": 5,
   "metadata": {},
   "outputs": [
    {
     "data": {
      "text/plain": [
       "<matplotlib.figure.Figure at 0x7f3daf30a128>"
      ]
     },
     "metadata": {},
     "output_type": "display_data"
    },
    {
     "data": {
      "image/png": "[encoded data removed]",
      "text/plain": [
       "<matplotlib.figure.Figure at 0x7f3daf30a160>"
      ]
     },
     "metadata": {},
     "output_type": "display_data"
    }
   ],
   "source": [
    "simplesignal = [0,0,0,1,2,3,0,0,0]\n",
    "plt.figure()\n",
    "fig, ax = plt.subplots()\n",
    "plt.plot(simplesignal,'ro')\n",
    "\n",
    "ax.set_xticklabels(range(-3,len(simplesignal)-3))\n",
    "plt.show()"
   ]
  },
  {
   "cell_type": "markdown",
   "metadata": {},
   "source": [
    "For this simple signal we could use the following notation to represent it:\n",
    "$$\\delta[n-1] + 2\\delta[n-2] + 3\\delta[n-3]$$"
   ]
  },
  {
   "cell_type": "markdown",
   "metadata": {},
   "source": [
    "As a matter of fact, all discrete signals can be represented of the form:\n",
    "$$ \\text{signal} = \\sum_{i=\\infty}^{\\infty}a_{i}\\delta[n-i]$$ where $a_{i}$ is just some scaling factor (coefficient)\n",
    "\n",
    "We will now have our first example of a homework exercise inside of the notebook.\n",
    "We have two ways of doing homework in the course, exercises inside of the notebook using software and exercises in the form of psets. Some theory is pset done on pen and paper and the applied work is best done in software. We are going to use both to make sure you understand the material.\n",
    "\n",
    "## Homework Exercise\n",
    "\n",
    "Create a plot of the function $$5\\delta[n-2] + 2\\delta[n-3] + 0.5\\delta[n-4] $$"
   ]
  },
  {
   "cell_type": "code",
   "execution_count": 21,
   "metadata": {},
   "outputs": [],
   "source": [
    "def homework1():\n",
    "    pass"
   ]
  },
  {
   "cell_type": "markdown",
   "metadata": {},
   "source": [
    "In addition to being able model discrete signals we will also use delta functions to characterize how systems perform. We will get into this later, but it is useful to keep in mind that this is INCREDIBLY useful."
   ]
  },
  {
   "cell_type": "markdown",
   "metadata": {},
   "source": [
    "The next signal we are going to consider is the unit step function, which looks like this:\n"
   ]
  },
  {
   "cell_type": "code",
   "execution_count": 29,
   "metadata": {},
   "outputs": [
    {
     "name": "stdout",
     "output_type": "stream",
     "text": [
      "[0, 0, 0, 0, 0, 0, 1, 1, 1, 1]\n"
     ]
    },
    {
     "data": {
      "text/plain": [
       "<matplotlib.figure.Figure at 0x7f3daed84c88>"
      ]
     },
     "metadata": {},
     "output_type": "display_data"
    },
    {
     "data": {
      "image/png": "[encoded data removed]",
      "text/plain": [
       "<matplotlib.figure.Figure at 0x7f3daed84c50>"
      ]
     },
     "metadata": {},
     "output_type": "display_data"
    }
   ],
   "source": [
    "impulse = [1 if x > 0 else 0  for x in range(-5,5)]\n",
    "print(impulse)\n",
    "plt.figure()\n",
    "fig, ax = plt.subplots()\n",
    "plt.plot(impulse,'bo')\n",
    "ax.set_xticklabels(range(-4,len(impulse)-4))\n",
    "plt.show()"
   ]
  },
  {
   "cell_type": "markdown",
   "metadata": {},
   "source": [
    "YAY! Cool signals! But what can we do with them?\n",
    "\n",
    "First things first: We can do signal processing! This is the process of taking signals and modifying them in some way. It can be anything really, adding a filter on instagram, bluring an image, removing noise from something while in lab. Most anything in a research setting needs some signal processing.\n",
    "Second (what we will look at today): Considering how systems interact with signals?\n",
    "\n",
    "So first, let's look at how we represent systems:"
   ]
  },
  {
   "cell_type": "markdown",
   "metadata": {},
   "source": [
    "We will be dealing with Linear - Time Invarient Systems. \n",
    "Linearity means that given the system f it obeys the following:\n",
    "$$ f(a) + f(b) = f(a+b) $$\n",
    "\n",
    "Time Invarience means this:\n",
    "$$ (x[n] \\text{ results in  } y[n]) \\text{  implies  } (x[n+k] \\text{  result in  } y[n+k]) $$\n",
    "\n",
    "Why do we care about these? Well they just illustrate two properties of easy to model systems. If we have a system and I put two inputs into it, I hope that the output is the same as of I put the inputs in seperatly and summed the responses. Time invarience says that the system doesn't care when I put the signal in (this is VERY reasonable for almost all systems).\n",
    "\n",
    "So, we are going to call all Linear and Time-Invarent systems LTI since we will use these A LOT!\n",
    "\n",
    "So, suppose we have a system of the form:\n",
    "$$ y[n] = x[n] + 3x[n-1]$$\n",
    "Create a plot of the impulse response of the system as well as the step response.\n",
    "\n",
    "## Homework Exercise"
   ]
  },
  {
   "cell_type": "code",
   "execution_count": 33,
   "metadata": {},
   "outputs": [],
   "source": [
    "def plotImpulseResponse():\n",
    "    pass\n",
    "plotImpulseResponse()"
   ]
  },
  {
   "cell_type": "code",
   "execution_count": 32,
   "metadata": {},
   "outputs": [],
   "source": [
    "def plotStepResponse():\n",
    "    pass\n",
    "plotStepResponse()"
   ]
  },
  {
   "cell_type": "markdown",
   "metadata": {},
   "source": [
    "So, it is very convenient for us to be able to write these systems by hand and solve them, but as they get more and more complex we will start to experience handaches from the computation. Thankfully we can have code take care of it for us. The below snippet of code is finding the impulse response of the system. The one afterwards finds the step response. Verify that your homework solutions match these plots."
   ]
  },
  {
   "cell_type": "code",
   "execution_count": 7,
   "metadata": {},
   "outputs": [
    {
     "data": {
      "image/png": "[encoded data removed]",
      "text/plain": [
       "<matplotlib.figure.Figure at 0x7f3daf208b38>"
      ]
     },
     "metadata": {},
     "output_type": "display_data"
    }
   ],
   "source": [
    "xs = [1,3,0]\n",
    "ys = [1,0,0]\n",
    "sys = signal.TransferFunction(xs, ys,dt=1.0)\n",
    "tout,yout = signal.dimpulse(sys)\n",
    "plt.figure()\n",
    "plt.plot(tout[0:10],yout[0][0:10],'o')\n",
    "plt.show()"
   ]
  },
  {
   "cell_type": "code",
   "execution_count": 34,
   "metadata": {},
   "outputs": [
    {
     "data": {
      "image/png": "[encoded data removed]",
      "text/plain": [
       "<matplotlib.figure.Figure at 0x7f3daeec95c0>"
      ]
     },
     "metadata": {},
     "output_type": "display_data"
    }
   ],
   "source": [
    "xs = [1,3,0]\n",
    "ys = [1,0,0]\n",
    "sys = signal.TransferFunction(xs, ys,dt=1.0)\n",
    "tout,yout = signal.dstep(sys)\n",
    "plt.figure()\n",
    "plt.plot(tout[0:10],yout[0][0:10],'o')\n",
    "plt.show()"
   ]
  },
  {
   "cell_type": "markdown",
   "metadata": {},
   "source": [
    "AWESOME! So the impulse response looks how we think it should look :D\n",
    "Can you use a similar piece of a code to make the step response for this system:\n",
    "$$y[n] - y[n-1] = x[n] + x[n-1]$$\n",
    "## Homework Exercise"
   ]
  },
  {
   "cell_type": "code",
   "execution_count": 35,
   "metadata": {},
   "outputs": [],
   "source": [
    "def stepresponse2():\n",
    "    pass\n",
    "stepresponse2()"
   ]
  },
  {
   "cell_type": "markdown",
   "metadata": {},
   "source": [
    "## Homework Exercise\n",
    "Why does this output settle at 4? Think about what the interaction between $y[n]$ and $y[n-1]$ is.\n",
    "\n",
    "WRITE ANSWER HERE!!!!!!!"
   ]
  },
  {
   "cell_type": "markdown",
   "metadata": {},
   "source": [
    "Consider the below system. You have a slider for tweaking r in the input.\n",
    "The system looks like this:\n",
    "$ y[n] - y[n-1] = x[n] + rx[n-1]$."
   ]
  },
  {
   "cell_type": "code",
   "execution_count": 40,
   "metadata": {},
   "outputs": [
    {
     "data": {
      "application/vnd.jupyter.widget-view+json": {
       "model_id": "da56a92440a447e3a5b295e2b0972cfd",
       "version_major": 2,
       "version_minor": 0
      },
      "text/plain": [
       "A Jupyter Widget"
      ]
     },
     "metadata": {},
     "output_type": "display_data"
    }
   ],
   "source": [
    "def impulseresponse2(r):\n",
    "    xs = [1,r,0]\n",
    "    ys = [1,-1,0]\n",
    "    sys = signal.TransferFunction(xs, ys,dt=1.0)\n",
    "    tout,yout = signal.dimpulse(sys)\n",
    "    plt.figure()\n",
    "    plt.plot(tout[0:10],yout[0][0:10],'o')\n",
    "    plt.show()\n",
    "    \n",
    "interact(impulseresponse2, r=(-1.0,1.0));"
   ]
  },
  {
   "cell_type": "markdown",
   "metadata": {},
   "source": [
    "We must also look at a step response and consider what it looks like.\n",
    "Let's look at the step response of the following system:"
   ]
  },
  {
   "cell_type": "code",
   "execution_count": 41,
   "metadata": {},
   "outputs": [
    {
     "data": {
      "application/vnd.jupyter.widget-view+json": {
       "model_id": "53e463acd67f4e2ca206ad573d970de0",
       "version_major": 2,
       "version_minor": 0
      },
      "text/plain": [
       "A Jupyter Widget"
      ]
     },
     "metadata": {},
     "output_type": "display_data"
    }
   ],
   "source": [
    "def stepresponse3(r):\n",
    "    xs = [1,r,0]\n",
    "    ys = [1,-1,0]\n",
    "    sys = signal.TransferFunction(xs, ys,dt=1.0)\n",
    "    tout,yout = signal.dstep(sys)\n",
    "    plt.figure()\n",
    "    plt.plot(tout[0:10],yout[0][0:10],'o')\n",
    "    plt.show()\n",
    "    \n",
    "interact(stepresponse3, r=(-2.0,2.0));"
   ]
  },
  {
   "cell_type": "markdown",
   "metadata": {},
   "source": [
    "Cool! We now have some analysis tools that we can use. \n",
    "Let's do some modeling in order to use them on real systems.\n",
    "First part, we are going to consider a heating system.\n",
    "Now, heating systems often have some kind of thermal mass, $M$ and some loss $R$\n",
    "We are going to model the system using the equation:\n",
    "$$T_{Heater}[n] =  T_{Room}[n] + R \\times M \\times \\frac{d T_{Room}[n]}{dt}$$\n",
    "To figure out where this equation comes from, remember from thermo that Heat in = Heat out + Heat stored.\n",
    "\n",
    "Finish the below function to find the impulse and step function of this model using $$R=1,M=5$$. What is a derivative in discrete time (if unsure look at the PSET)?"
   ]
  },
  {
   "cell_type": "code",
   "execution_count": 42,
   "metadata": {},
   "outputs": [
    {
     "data": {
      "image/png": "[encoded data removed]",
      "text/plain": [
       "<matplotlib.figure.Figure at 0x7f3daefa7f98>"
      ]
     },
     "metadata": {},
     "output_type": "display_data"
    },
    {
     "data": {
      "image/png": "[encoded data removed]",
      "text/plain": [
       "<matplotlib.figure.Figure at 0x7f3daf180c88>"
      ]
     },
     "metadata": {},
     "output_type": "display_data"
    }
   ],
   "source": [
    "def temperaturemodel(R=1,M=5):\n",
    "    xs = [1]\n",
    "    ys = [1]\n",
    "    sys = signal.TransferFunction(xs, ys,dt=1.0)\n",
    "    iout,iyout = signal.dimpulse(sys)\n",
    "    tout,yout = signal.dstep(sys)\n",
    "    plt.figure()\n",
    "    plt.plot(tout[0:10],yout[0][0:10],'o')\n",
    "    plt.show()\n",
    "    plt.figure()\n",
    "    plt.plot(iout[0:10],iyout[0][0:10],'o')\n",
    "    plt.show()\n",
    "    \n",
    "temperaturemodel()"
   ]
  },
  {
   "cell_type": "markdown",
   "metadata": {},
   "source": [
    "## Homework Exercise\n",
    "\n",
    "Solve the differential equation for continuous time. Does this match what the differential equation tells you for continuous time step and impulse response? Write the continious time impulse and step response equations here $$\\text{impulse response equation}$$\n",
    "$$\\text{step response equation}$$"
   ]
  },
  {
   "cell_type": "markdown",
   "metadata": {},
   "source": [
    "## Homework Exercise\n",
    "\n",
    "Create a plot of the impulse and step responses you calculated by hand above"
   ]
  },
  {
   "cell_type": "code",
   "execution_count": 43,
   "metadata": {},
   "outputs": [],
   "source": [
    "def temperatureImpulsePlot():\n",
    "    pass\n",
    "\n",
    "temperatureImpulsePlot()"
   ]
  },
  {
   "cell_type": "code",
   "execution_count": null,
   "metadata": {},
   "outputs": [],
   "source": [
    "def temperta"
   ]
  }
 ],
 "metadata": {
  "kernelspec": {
   "display_name": "Python 3",
   "language": "python",
   "name": "python3"
  },
  "language_info": {
   "codemirror_mode": {
    "name": "ipython",
    "version": 3
   },
   "file_extension": ".py",
   "mimetype": "text/x-python",
   "name": "python",
   "nbconvert_exporter": "python",
   "pygments_lexer": "ipython3",
   "version": "3.5.2"
  }
 },
 "nbformat": 4,
 "nbformat_minor": 2
}
