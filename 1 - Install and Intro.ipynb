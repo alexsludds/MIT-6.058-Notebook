{
 "cells": [
  {
   "cell_type": "code",
   "execution_count": 1,
   "metadata": {},
   "outputs": [],
   "source": [
    "import numpy as np\n",
    "import scipy as sp\n",
    "import scipy.signal as signal\n",
    "import matplotlib.pyplot as plt\n",
    "import IPython.display as ipd\n",
    "from ipywidgets import interact"
   ]
  },
  {
   "cell_type": "markdown",
   "metadata": {},
   "source": [
    "### We are going to be doing most of our work this semester inside of these jupyter-notebooks. But first, we are going to check that all of your software is installed correctly."
   ]
  },
  {
   "cell_type": "code",
   "execution_count": null,
   "metadata": {},
   "outputs": [],
   "source": []
  },
  {
   "cell_type": "markdown",
   "metadata": {},
   "source": [
    "Great, now we are going to do some quick python to get you up to speed.\n",
    "Write a function called squarer which uses a for loop in order to square all of the elements in the list of the input signal."
   ]
  },
  {
   "cell_type": "code",
   "execution_count": 2,
   "metadata": {},
   "outputs": [
    {
     "name": "stdout",
     "output_type": "stream",
     "text": [
      "None\n"
     ]
    }
   ],
   "source": [
    "def squarer(inputsignal):\n",
    "    pass\n",
    "print(squarer([0,1,2,3,4,5,6,7]))"
   ]
  },
  {
   "cell_type": "markdown",
   "metadata": {},
   "source": [
    "Now do the same thing using a list comprehension"
   ]
  },
  {
   "cell_type": "code",
   "execution_count": 3,
   "metadata": {},
   "outputs": [
    {
     "name": "stdout",
     "output_type": "stream",
     "text": [
      "[]\n"
     ]
    }
   ],
   "source": [
    "returned_squarer = []\n",
    "print(returned_squarer)"
   ]
  },
  {
   "cell_type": "markdown",
   "metadata": {},
   "source": [
    "# CONTINUE THE EXPLANATION HERE!"
   ]
  },
  {
   "cell_type": "markdown",
   "metadata": {},
   "source": [
    "Today we are going to examine some basic syntax on what a signal and system are.\n",
    "The first signal we are concerned with is the impulse (or delta) function:"
   ]
  },
  {
   "cell_type": "code",
   "execution_count": 4,
   "metadata": {},
   "outputs": [
    {
     "data": {
      "image/png": "[encoded data removed]",
      "text/plain": [
       "<matplotlib.figure.Figure at 0x7f708b800b10>"
      ]
     },
     "metadata": {},
     "output_type": "display_data"
    }
   ],
   "source": [
    "impulse = signal.unit_impulse(20,idx='mid')\n",
    "plt.plot(impulse,'r')\n",
    "plt.show()"
   ]
  },
  {
   "cell_type": "markdown",
   "metadata": {},
   "source": [
    "Great, we drew a pretty impulse, but what use is this?\n",
    "First thing first, impulses are VERY useful for being able to model a general discrete signal.\n",
    "For sample, consider this simple signal:\n"
   ]
  },
  {
   "cell_type": "code",
   "execution_count": 5,
   "metadata": {},
   "outputs": [
    {
     "data": {
      "text/plain": [
       "<matplotlib.figure.Figure at 0x7f708b800410>"
      ]
     },
     "metadata": {},
     "output_type": "display_data"
    },
    {
     "data": {
      "image/png": "[encoded data removed]",
      "text/plain": [
       "<matplotlib.figure.Figure at 0x7f708b800350>"
      ]
     },
     "metadata": {},
     "output_type": "display_data"
    }
   ],
   "source": [
    "simplesignal = [0,0,0,1,2,3,0,0,0]\n",
    "plt.figure()\n",
    "fig, ax = plt.subplots()\n",
    "plt.plot(simplesignal,'ro')\n",
    "\n",
    "ax.set_xticklabels(range(-3,len(simplesignal)-3))\n",
    "plt.show()"
   ]
  },
  {
   "cell_type": "markdown",
   "metadata": {},
   "source": [
    "For this simple signal we could use the following notation to represent it:\n",
    "$$\\delta[n-1] + 2\\delta[n-2] + 3\\delta[n-3]$$"
   ]
  },
  {
   "cell_type": "markdown",
   "metadata": {},
   "source": [
    "As a matter of fact, all discrete signals can be represented of the form:\n",
    "$$ \\text{signal} = \\sum_{i=\\infty}^{\\infty}a_{i}\\delta[n-i]$$"
   ]
  },
  {
   "cell_type": "markdown",
   "metadata": {},
   "source": [
    "The next signal we are going to consider is the unit step function, which looks like this:"
   ]
  },
  {
   "cell_type": "code",
   "execution_count": 6,
   "metadata": {},
   "outputs": [
    {
     "name": "stdout",
     "output_type": "stream",
     "text": [
      "[0, 0, 0, 0, 0, 1, 1, 1, 1, 1]\n"
     ]
    },
    {
     "data": {
      "text/plain": [
       "<matplotlib.figure.Figure at 0x7f708971d710>"
      ]
     },
     "metadata": {},
     "output_type": "display_data"
    },
    {
     "data": {
      "image/png": "[encoded data removed]",
      "text/plain": [
       "<matplotlib.figure.Figure at 0x7f708971d650>"
      ]
     },
     "metadata": {},
     "output_type": "display_data"
    }
   ],
   "source": [
    "impulse = [1 if x >= 0 else 0  for x in range(-5,5)]\n",
    "print impulse\n",
    "plt.figure()\n",
    "fig, ax = plt.subplots()\n",
    "plt.plot(impulse)\n",
    "ax.set_xticklabels(range(-4,len(impulse)-4))\n",
    "plt.show()"
   ]
  },
  {
   "cell_type": "markdown",
   "metadata": {},
   "source": [
    "YAY! We are learning about some types of signals. But honestly, what can I do with these?\n",
    "First things first: We can do signal processing! This is the process of taking signals and modifying them in some way. It can be anything really, adding a filter on instagram, bluring an image, removing noise from something while in lab. Most anything in a research setting needs some signal processing.\n",
    "Second (what we will look at today): Considering how do systems interact with signals?\n",
    "\n",
    "So first, let's look at how we represent systems:"
   ]
  },
  {
   "cell_type": "markdown",
   "metadata": {},
   "source": [
    "We will be dealing with Linear - Time Invarient Systems. \n",
    "Linearity means the following:\n",
    "$$ f(a) + f(b) = f(a+b) $$\n",
    "\n",
    "Time Invarience means this:\n",
    "$$ (x[n] \\text{ results in  } y[n]) \\text{  implies  } (x[n+k] \\text{  result in  } y[n+k]) $$\n",
    "\n",
    "Why do we care about these? Well they just illustrate two properties of easy to model systems. If we have a system and I put two inputs into it, I hope that the output is the same as of I put the inputs in seperatly and summed the responses. Time invarience says that the system doesn't care when I put the signal in (this is VERY reasonable for almost all systems).\n",
    "\n",
    "So, we are going to call all LTI systems LTI since we will use these A LOT!\n",
    "\n",
    "So, suppose we have a system of the form:\n",
    "$$ y[n] = x[n] + 3x[n-1]$$.\n",
    "We would use the following code to model it's impulse response (PLEASE DO DERIVATION OF IMPULSE RESPONSE ON PAPER TO GAIN INTUITION!)"
   ]
  },
  {
   "cell_type": "code",
   "execution_count": 7,
   "metadata": {},
   "outputs": [
    {
     "data": {
      "image/png": "[encoded data removed]",
      "text/plain": [
       "<matplotlib.figure.Figure at 0x7f708bac9e50>"
      ]
     },
     "metadata": {},
     "output_type": "display_data"
    }
   ],
   "source": [
    "xs = [1,3,0]\n",
    "ys = [1,0,0]\n",
    "sys = signal.TransferFunction(xs, ys,dt=1.0)\n",
    "tout,yout = signal.dimpulse(sys)\n",
    "plt.figure()\n",
    "plt.plot(tout[0:10],yout[0][0:10],'o')\n",
    "plt.show()"
   ]
  },
  {
   "cell_type": "markdown",
   "metadata": {},
   "source": [
    "AWESOME! So the impulse response looks how we think it should look :D\n",
    "Now, this was with the case with the ouput (y[n]) only depending upon inputs (x[n] etc).\n",
    "What if we throw another y[n] in there?\n",
    "(Make a guess).\n",
    "\n",
    "This is the output for the system\n",
    "$$y[n] - y[n-1] = x[n] + x[n-1]$$"
   ]
  },
  {
   "cell_type": "code",
   "execution_count": 8,
   "metadata": {},
   "outputs": [
    {
     "data": {
      "image/png": "[encoded data removed]",
      "text/plain": [
       "<matplotlib.figure.Figure at 0x7f70897ad550>"
      ]
     },
     "metadata": {},
     "output_type": "display_data"
    }
   ],
   "source": [
    "xs = [1,3,0]\n",
    "ys = [1,-1,0]\n",
    "sys = signal.TransferFunction(xs, ys,dt=1.0)\n",
    "tout,yout = signal.dimpulse(sys)\n",
    "plt.figure()\n",
    "plt.plot(tout[0:10],yout[0][0:10],'o')\n",
    "plt.show()"
   ]
  },
  {
   "cell_type": "markdown",
   "metadata": {},
   "source": [
    "Why does this output settle at 4? Think about what the interaction between $y[n]$ and $y[n-1]$ is.\n",
    "\n",
    "Consider the below system. You have a slider for tweaking r in the input.\n",
    "The system looks like this:\n",
    "$ y[n] + y[n-1] = x[n] + rx[n-1]$."
   ]
  },
  {
   "cell_type": "code",
   "execution_count": 9,
   "metadata": {},
   "outputs": [
    {
     "data": {
      "application/vnd.jupyter.widget-view+json": {
       "model_id": "aa98d82a5c4d4408863f69c0679772d5",
       "version_major": 2,
       "version_minor": 0
      },
      "text/html": [
       "<p>Failed to display Jupyter Widget of type <code>interactive</code>.</p>\n",
       "<p>\n",
       "  If you're reading this message in Jupyter Notebook or JupyterLab, it may mean\n",
       "  that the widgets JavaScript is still loading. If this message persists, it\n",
       "  likely means that the widgets JavaScript library is either not installed or\n",
       "  not enabled. See the <a href=\"https://ipywidgets.readthedocs.io/en/stable/user_install.html\">Jupyter\n",
       "  Widgets Documentation</a> for setup instructions.\n",
       "</p>\n",
       "<p>\n",
       "  If you're reading this message in another notebook frontend (for example, a static\n",
       "  rendering on GitHub or <a href=\"https://nbviewer.jupyter.org/\">NBViewer</a>),\n",
       "  it may mean that your frontend doesn't currently support widgets.\n",
       "</p>\n"
      ],
      "text/plain": [
       "interactive(children=(FloatSlider(value=0.0, description=u'r', max=1.0, min=-1.0), Output()), _dom_classes=('widget-interact',))"
      ]
     },
     "metadata": {},
     "output_type": "display_data"
    }
   ],
   "source": [
    "def generateFunSystemResponse(r):\n",
    "    xs = [1,r,0]\n",
    "    ys = [1,1,0]\n",
    "    sys = signal.TransferFunction(xs, ys,dt=1.0)\n",
    "    tout,yout = signal.dimpulse(sys)\n",
    "    plt.figure()\n",
    "    plt.plot(tout[0:10],yout[0][0:10],'o')\n",
    "    plt.show()\n",
    "    \n",
    "interact(generateFunSystemResponse, r=(-1.0,1.0));"
   ]
  },
  {
   "cell_type": "markdown",
   "metadata": {},
   "source": [
    "We must also look at a step response and consider what it looks like.\n",
    "Let's look at the step response of the following system:\n",
    "#DO THIS PART SLUDES"
   ]
  },
  {
   "cell_type": "code",
   "execution_count": 10,
   "metadata": {},
   "outputs": [
    {
     "data": {
      "application/vnd.jupyter.widget-view+json": {
       "model_id": "b96b8d6f63d643f28df304dba3496158",
       "version_major": 2,
       "version_minor": 0
      },
      "text/html": [
       "<p>Failed to display Jupyter Widget of type <code>interactive</code>.</p>\n",
       "<p>\n",
       "  If you're reading this message in Jupyter Notebook or JupyterLab, it may mean\n",
       "  that the widgets JavaScript is still loading. If this message persists, it\n",
       "  likely means that the widgets JavaScript library is either not installed or\n",
       "  not enabled. See the <a href=\"https://ipywidgets.readthedocs.io/en/stable/user_install.html\">Jupyter\n",
       "  Widgets Documentation</a> for setup instructions.\n",
       "</p>\n",
       "<p>\n",
       "  If you're reading this message in another notebook frontend (for example, a static\n",
       "  rendering on GitHub or <a href=\"https://nbviewer.jupyter.org/\">NBViewer</a>),\n",
       "  it may mean that your frontend doesn't currently support widgets.\n",
       "</p>\n"
      ],
      "text/plain": [
       "interactive(children=(FloatSlider(value=0.0, description=u'r', max=1.0, min=-1.0), Output()), _dom_classes=('widget-interact',))"
      ]
     },
     "metadata": {},
     "output_type": "display_data"
    }
   ],
   "source": [
    "def generateFunSystemResponse(r):\n",
    "    xs = [1,r,0]\n",
    "    ys = [1,1,0]\n",
    "    sys = signal.TransferFunction(xs, ys,dt=1.0)\n",
    "    tout,yout = signal.dstep(sys)\n",
    "    plt.figure()\n",
    "    plt.plot(tout[0:10],yout[0][0:10],'o')\n",
    "    plt.show()\n",
    "    \n",
    "interact(generateFunSystemResponse, r=(-1.0,1.0));"
   ]
  },
  {
   "cell_type": "markdown",
   "metadata": {},
   "source": [
    "Cool! We now have some analysis tools that we can use. \n",
    "Let's do some modeling in order to use them on real systems.\n",
    "First part, we are going to consider a heating system.\n",
    "Now, heating systems often have some kind of thermal mass, $$M$$ and some loss $$R$$\n",
    "We are going to model the system using the equation:\n",
    "$$T_{Heater}[n] =  T_{Room}[n] + R \\times M \\times \\frac{d T_{Room}[n]}{dt}$$\n",
    "To figure out where this equation comes from, remember from thermo that Heat in = Heat out + Heat stored.\n",
    "\n",
    "Finish the below function to find the impulse and step function of this model using $$R=1,M=5$$. What is a derivative in discrete time?"
   ]
  },
  {
   "cell_type": "code",
   "execution_count": 11,
   "metadata": {},
   "outputs": [
    {
     "data": {
      "image/png": "[encoded data removed]",
      "text/plain": [
       "<matplotlib.figure.Figure at 0x7f7089524090>"
      ]
     },
     "metadata": {},
     "output_type": "display_data"
    },
    {
     "data": {
      "image/png": "[encoded data removed]",
      "text/plain": [
       "<matplotlib.figure.Figure at 0x7f708946bfd0>"
      ]
     },
     "metadata": {},
     "output_type": "display_data"
    }
   ],
   "source": [
    "def generateFunSystemResponse(R=1,M=5):\n",
    "    xs = [1]\n",
    "    ys = [1]\n",
    "    sys = signal.TransferFunction(xs, ys,dt=1.0)\n",
    "    iout,iyout = signal.dimpulse(sys)\n",
    "    tout,yout = signal.dstep(sys)\n",
    "    plt.figure()\n",
    "    plt.plot(tout[0:10],yout[0][0:10],'o')\n",
    "    plt.show()\n",
    "    plt.figure()\n",
    "    plt.plot(iout[0:10],iyout[0][0:10],'o')\n",
    "    plt.show()\n",
    "    \n",
    "generateFunSystemResponse()"
   ]
  },
  {
   "cell_type": "markdown",
   "metadata": {},
   "source": [
    "Solve the differential equation for continuous time. Does this match what the differential equation tells you for continuous time step and impulse response? Write the continious time impulse and step response equations here $$\\text{impulse response equation}$$\n",
    "$$\\text{step response equation}$$"
   ]
  },
  {
   "cell_type": "code",
   "execution_count": null,
   "metadata": {},
   "outputs": [],
   "source": []
  }
 ],
 "metadata": {
  "kernelspec": {
   "display_name": "Python 2",
   "language": "python",
   "name": "python2"
  },
  "language_info": {
   "codemirror_mode": {
    "name": "ipython",
    "version": 2
   },
   "file_extension": ".py",
   "mimetype": "text/x-python",
   "name": "python",
   "nbconvert_exporter": "python",
   "pygments_lexer": "ipython2",
   "version": "2.7.12"
  }
 },
 "nbformat": 4,
 "nbformat_minor": 2
}
