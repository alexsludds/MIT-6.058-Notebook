{
 "cells": [
  {
   "cell_type": "code",
   "execution_count": 1,
   "metadata": {},
   "outputs": [],
   "source": [
    "import numpy as np\n",
    "global np\n",
    "import scipy as sp\n",
    "import scipy.signal as signal\n",
    "import matplotlib.pyplot as plt\n",
    "import IPython.display as ipd\n",
    "from ipywidgets import interact\n",
    "import sys\n",
    "import wave\n",
    "sys.path.append(\"../backend/\")\n",
    "%matplotlib inline\n",
    "\n",
    "def load_wav(filepath, t_start = 0, t_end = 2**32) :\n",
    "    \"\"\"Load a wave file, which must be 22050Hz and 16bit and must be either\n",
    "    mono or stereo. \n",
    "    Inputs:\n",
    "        filepath: audio file\n",
    "        t_start, t_end:  (optional) subrange of file to load (in seconds)\n",
    "    Returns:\n",
    "        a numpy floating-point array with a range of [-1, 1]\n",
    "    \"\"\"\n",
    "    wf = wave.open(filepath)\n",
    "    num_channels, sampwidth, fs, end, comptype, compname = wf.getparams()\n",
    "    \n",
    "    # for now, we will only accept 16 bit files at 22k\n",
    "    assert(sampwidth == 2)\n",
    "    assert(fs == 22050)\n",
    "\n",
    "    # start frame, end frame, and duration in frames\n",
    "    f_start = int(t_start * fs)\n",
    "    f_end = min(int(t_end * fs), end)\n",
    "    frames = f_end - f_start\n",
    "\n",
    "    wf.setpos(f_start)\n",
    "    raw_bytes = wf.readframes(frames)\n",
    "    # convert raw data to numpy array, assuming int16 arrangement\n",
    "    samples = np.fromstring(raw_bytes, dtype = np.int16)\n",
    "\n",
    "    # convert from integer type to floating point, and scale to [-1, 1]\n",
    "    samples = samples.astype(np.float)\n",
    "    samples *= (1 / 32768.0)\n",
    "\n",
    "    if num_channels == 1:\n",
    "        return samples\n",
    "\n",
    "    elif num_channels == 2:\n",
    "        return 0.5 * (samples[0::2] + samples[1::2])\n",
    "\n",
    "    else:\n",
    "        raise('Can only handle mono or stereo wave files') "
   ]
  },
  {
   "cell_type": "markdown",
   "metadata": {},
   "source": [
    "Today, in preparation for our final projects, we are going to talk about problems that can arise with hardware implementations, and how we can avoid this with good design."
   ]
  },
  {
   "cell_type": "markdown",
   "metadata": {},
   "source": [
    "## Eliminating 60Hz Noise"
   ]
  },
  {
   "cell_type": "markdown",
   "metadata": {},
   "source": [
    "## Impedance Mathing"
   ]
  },
  {
   "cell_type": "markdown",
   "metadata": {},
   "source": [
    "## Ground Feedback Loops"
   ]
  },
  {
   "cell_type": "markdown",
   "metadata": {},
   "source": [
    "    "
   ]
  }
 ],
 "metadata": {
  "kernelspec": {
   "display_name": "Python 3",
   "language": "python",
   "name": "python3"
  },
  "language_info": {
   "codemirror_mode": {
    "name": "ipython",
    "version": 3
   },
   "file_extension": ".py",
   "mimetype": "text/x-python",
   "name": "python",
   "nbconvert_exporter": "python",
   "pygments_lexer": "ipython3",
   "version": "3.5.2"
  }
 },
 "nbformat": 4,
 "nbformat_minor": 2
}
