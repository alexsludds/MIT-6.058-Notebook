{
 "cells": [
  {
   "cell_type": "code",
   "execution_count": 1,
   "metadata": {},
   "outputs": [],
   "source": [
    "import numpy as np\n",
    "import scipy as sp\n",
    "import scipy.signal as signal\n",
    "import matplotlib.pyplot as plt\n",
    "import IPython.display as ipd\n",
    "from ipywidgets import interact"
   ]
  },
  {
   "cell_type": "markdown",
   "metadata": {},
   "source": [
    "# Today we are going to figure out how to properly sample a signal."
   ]
  },
  {
   "cell_type": "markdown",
   "metadata": {},
   "source": [
    "Sampling is EVERYWHERE in our society. Your smartphone samples your voice when you are calling someone in order to digitize and send the signal. Your ID card has its signal sampled. Each key on your keyboard is sampled hundreds of times a second in order to see if a key has been pressed or not.\n",
    "Needless to say, learning how sampling works and learning it well is VERY important."
   ]
  },
  {
   "cell_type": "code",
   "execution_count": 39,
   "metadata": {},
   "outputs": [
    {
     "data": {
      "application/vnd.jupyter.widget-view+json": {
       "model_id": "c72d1e42d8524c36adb53653eeaff9d4",
       "version_major": 2,
       "version_minor": 0
      },
      "text/html": [
       "<p>Failed to display Jupyter Widget of type <code>interactive</code>.</p>\n",
       "<p>\n",
       "  If you're reading this message in Jupyter Notebook or JupyterLab, it may mean\n",
       "  that the widgets JavaScript is still loading. If this message persists, it\n",
       "  likely means that the widgets JavaScript library is either not installed or\n",
       "  not enabled. See the <a href=\"https://ipywidgets.readthedocs.io/en/stable/user_install.html\">Jupyter\n",
       "  Widgets Documentation</a> for setup instructions.\n",
       "</p>\n",
       "<p>\n",
       "  If you're reading this message in another notebook frontend (for example, a static\n",
       "  rendering on GitHub or <a href=\"https://nbviewer.jupyter.org/\">NBViewer</a>),\n",
       "  it may mean that your frontend doesn't currently support widgets.\n",
       "</p>\n"
      ],
      "text/plain": [
       "interactive(children=(FloatSlider(value=2.25, description=u'sr', max=4.0, min=0.5), Output()), _dom_classes=('widget-interact',))"
      ]
     },
     "metadata": {},
     "output_type": "display_data"
    }
   ],
   "source": [
    "def sampledemo(sr):\n",
    "    t = np.linspace(0,10,100)\n",
    "    f = 0.5\n",
    "    sinwave = np.sin(2.*np.pi*f*t)\n",
    "    samplingpoints = np.linspace(0,10,10*sr)\n",
    "    interpolatedpoints = np.interp(x=samplingpoints,xp=t,fp=sinwave)\n",
    "    toplotx = np.linspace(0,10,100*sr)\n",
    "    toploty = sp.interpolate.spline(samplingpoints,interpolatedpoints,toplotx)\n",
    "    plt.figure()\n",
    "    plt.plot(toplotx,toploty,'b')\n",
    "    plt.plot(t,sinwave,'r')\n",
    "    plt.title(\"Sampled Signal\")\n",
    "    plt.show()\n",
    "    plt.figure()\n",
    "    plt.plot(np.fft.rfft(interpolatedpoints),'b')\n",
    "    plt.plot(np.fft.rfft(sinwave),'r')\n",
    "    plt.show()\n",
    "interact(sampledemo,sr=(0.5,8*0.5));"
   ]
  },
  {
   "cell_type": "markdown",
   "metadata": {},
   "source": [
    "What observation do you make as you move the slider? At what sampling rate can we start to notice the sinusoid? \n",
    "$$\\text{ sampling rate for seeing sinusoid}$$."
   ]
  },
  {
   "attachments": {
    "500px-CPT-sound-nyquist-thereom-1.5percycle.svg.png": {
     "image/png": "[encoded data removed]"
    }
   },
   "cell_type": "markdown",
   "metadata": {},
   "source": [
    "To give you a bit more idea about why this fails pretty catestrophically I have a pretty picture for you:\n",
    "![500px-CPT-sound-nyquist-thereom-1.5percycle.svg.png](attachment:500px-CPT-sound-nyquist-thereom-1.5percycle.svg.png)"
   ]
  },
  {
   "cell_type": "markdown",
   "metadata": {},
   "source": [
    "Today we are going to learn a couple of things about sampling.\n",
    "The first thing first is we are going to learn about the nyquist limit and I think the best way to understand it is from an informaion theory perspective.\n"
   ]
  },
  {
   "cell_type": "markdown",
   "metadata": {},
   "source": [
    "How does jitter in our measurement effect our representation of our signal? Suppose we aren't sampling with a fixed $$T$$ period and that instead that $$T$$ jitters all over the place, what happens?"
   ]
  },
  {
   "cell_type": "code",
   "execution_count": null,
   "metadata": {},
   "outputs": [],
   "source": []
  },
  {
   "cell_type": "markdown",
   "metadata": {},
   "source": [
    "Let's have a look at examples of what aliasing looks in a bunch of different mediums.\n",
    "Let's examine aliasing when we have music:"
   ]
  },
  {
   "cell_type": "code",
   "execution_count": null,
   "metadata": {},
   "outputs": [],
   "source": []
  },
  {
   "cell_type": "markdown",
   "metadata": {},
   "source": [
    "Let's have a look at aliasing when we have photos:"
   ]
  },
  {
   "cell_type": "code",
   "execution_count": null,
   "metadata": {},
   "outputs": [],
   "source": []
  },
  {
   "cell_type": "markdown",
   "metadata": {},
   "source": [
    "People will often say that \"highest frequency\" and \"bandwidth\" are the exact same thing for nyquist rate, why is this the case? What can you do to an incoming signal in order to make bandwidth and highest frequency the same thing?\n",
    "$$ \\text{answer here} $$"
   ]
  },
  {
   "cell_type": "markdown",
   "metadata": {},
   "source": [
    "# Gibbs Phenomena\n",
    "We are going to look into something known as gibb's phenomena in signal processing.\n",
    "First, also me to give you a demo showing exactly what Gibb's phenomena is:"
   ]
  },
  {
   "cell_type": "code",
   "execution_count": 42,
   "metadata": {},
   "outputs": [
    {
     "data": {
      "application/vnd.jupyter.widget-view+json": {
       "model_id": "47697ff80c6d490d84e028c5660ea7fb",
       "version_major": 2,
       "version_minor": 0
      },
      "text/html": [
       "<p>Failed to display Jupyter Widget of type <code>interactive</code>.</p>\n",
       "<p>\n",
       "  If you're reading this message in Jupyter Notebook or JupyterLab, it may mean\n",
       "  that the widgets JavaScript is still loading. If this message persists, it\n",
       "  likely means that the widgets JavaScript library is either not installed or\n",
       "  not enabled. See the <a href=\"https://ipywidgets.readthedocs.io/en/stable/user_install.html\">Jupyter\n",
       "  Widgets Documentation</a> for setup instructions.\n",
       "</p>\n",
       "<p>\n",
       "  If you're reading this message in another notebook frontend (for example, a static\n",
       "  rendering on GitHub or <a href=\"https://nbviewer.jupyter.org/\">NBViewer</a>),\n",
       "  it may mean that your frontend doesn't currently support widgets.\n",
       "</p>\n"
      ],
      "text/plain": [
       "interactive(children=(Output(),), _dom_classes=('widget-interact',))"
      ]
     },
     "metadata": {},
     "output_type": "display_data"
    }
   ],
   "source": [
    "def gibbsdemo():\n",
    "    t = np.linspace(0,40,1000)\n",
    "    squarewave = signal.square(t,0.5)\n",
    "    plt.figure()\n",
    "    plt.plot(squarewave)\n",
    "    plt.show()\n",
    "interact(gibbsdemo);"
   ]
  }
 ],
 "metadata": {
  "kernelspec": {
   "display_name": "Python 2",
   "language": "python",
   "name": "python2"
  },
  "language_info": {
   "codemirror_mode": {
    "name": "ipython",
    "version": 2
   },
   "file_extension": ".py",
   "mimetype": "text/x-python",
   "name": "python",
   "nbconvert_exporter": "python",
   "pygments_lexer": "ipython2",
   "version": "2.7.12"
  }
 },
 "nbformat": 4,
 "nbformat_minor": 2
}
