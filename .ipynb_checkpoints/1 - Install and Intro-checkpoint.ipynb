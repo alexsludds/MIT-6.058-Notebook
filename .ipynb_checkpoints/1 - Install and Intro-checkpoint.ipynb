{
 "cells": [
  {
   "cell_type": "code",
   "execution_count": 6,
   "metadata": {},
   "outputs": [],
   "source": [
    "import numpy as np\n",
    "import scipy as sp\n",
    "import scipy.signal as signal\n",
    "import matplotlib.pyplot as plt"
   ]
  },
  {
   "cell_type": "markdown",
   "metadata": {},
   "source": [
    "### We are going to be doing most of our work this semester inside of these jupyter-notebooks. But first, we are going to check that all of your software is installed correctly."
   ]
  },
  {
   "cell_type": "code",
   "execution_count": null,
   "metadata": {},
   "outputs": [],
   "source": []
  },
  {
   "cell_type": "markdown",
   "metadata": {},
   "source": [
    "Great, now we are going to do some quick python to get you up to speed.\n",
    "Write a function called squarer which uses a for loop in order to square all of the elements in the list of the input signal."
   ]
  },
  {
   "cell_type": "code",
   "execution_count": 4,
   "metadata": {},
   "outputs": [
    {
     "name": "stdout",
     "output_type": "stream",
     "text": [
      "None\n"
     ]
    }
   ],
   "source": [
    "def squarer(inputsignal):\n",
    "    pass\n",
    "print(squarer([0,1,2,3,4,5,6,7]))"
   ]
  },
  {
   "cell_type": "markdown",
   "metadata": {},
   "source": [
    "Now do the same thing using a list comprehension"
   ]
  },
  {
   "cell_type": "code",
   "execution_count": 5,
   "metadata": {},
   "outputs": [
    {
     "name": "stdout",
     "output_type": "stream",
     "text": [
      "[]\n"
     ]
    }
   ],
   "source": [
    "returned_squarer = []\n",
    "print(returned_squarer)"
   ]
  },
  {
   "cell_type": "markdown",
   "metadata": {},
   "source": [
    "# CONTINUE THE EXPLANATION HERE!"
   ]
  },
  {
   "cell_type": "markdown",
   "metadata": {},
   "source": [
    "Today we are going to examine some basic syntax on what a signal and system are.\n",
    "The first signal we are concerned with is the impulse (or delta) function:"
   ]
  },
  {
   "cell_type": "code",
   "execution_count": 21,
   "metadata": {},
   "outputs": [
    {
     "data": {
      "image/png": "[encoded data removed]",
      "text/plain": [
       "<matplotlib.figure.Figure at 0x7ff8d308f490>"
      ]
     },
     "metadata": {},
     "output_type": "display_data"
    }
   ],
   "source": [
    "impulse = signal.unit_impulse(20,idx='mid')\n",
    "plt.plot(impulse,'r')\n",
    "plt.show()"
   ]
  },
  {
   "cell_type": "markdown",
   "metadata": {},
   "source": [
    "Great, we drew a pretty impulse, but what use is this?\n",
    "First thing first, impulses are VERY useful for being able to model a general discrete signal.\n",
    "For sample, consider this simple signal:\n"
   ]
  },
  {
   "cell_type": "code",
   "execution_count": 36,
   "metadata": {},
   "outputs": [
    {
     "data": {
      "text/plain": [
       "<matplotlib.figure.Figure at 0x7ff8d2d43450>"
      ]
     },
     "metadata": {},
     "output_type": "display_data"
    },
    {
     "data": {
      "image/png": "[encoded data removed]",
      "text/plain": [
       "<matplotlib.figure.Figure at 0x7ff8d2d434d0>"
      ]
     },
     "metadata": {},
     "output_type": "display_data"
    }
   ],
   "source": [
    "simplesignal = [0,0,0,1,2,3,0,0,0]\n",
    "plt.figure()\n",
    "fig, ax = plt.subplots()\n",
    "plt.plot(simplesignal,'ro')\n",
    "\n",
    "ax.set_xticklabels(range(-3,len(simplesignal)-3))\n",
    "plt.show()"
   ]
  },
  {
   "cell_type": "markdown",
   "metadata": {},
   "source": [
    "For this simple signal we could use the following notation to represent it:\n",
    "$$\\delta[n-1] + 2\\delta[n-2] + 3\\delta[n-3]$$"
   ]
  },
  {
   "cell_type": "markdown",
   "metadata": {},
   "source": [
    "As a matter of fact, all discrete signals can be represented of the form:\n",
    "$$ \\text{signal} = \\sum_{i=\\infty}^{\\infty}a_{i}\\delta[n-i]$$"
   ]
  },
  {
   "cell_type": "markdown",
   "metadata": {},
   "source": [
    "The next signal we are going to consider is the unit step function, which looks like this:"
   ]
  },
  {
   "cell_type": "code",
   "execution_count": 52,
   "metadata": {},
   "outputs": [
    {
     "name": "stdout",
     "output_type": "stream",
     "text": [
      "[0, 0, 0, 0, 0, 1, 1, 1, 1, 1]\n"
     ]
    },
    {
     "data": {
      "text/plain": [
       "<matplotlib.figure.Figure at 0x7ff8d37a4290>"
      ]
     },
     "metadata": {},
     "output_type": "display_data"
    },
    {
     "data": {
      "image/png": "[encoded data removed]",
      "text/plain": [
       "<matplotlib.figure.Figure at 0x7ff8d37a4890>"
      ]
     },
     "metadata": {},
     "output_type": "display_data"
    }
   ],
   "source": [
    "impulse = [1 if x >= 0 else 0  for x in range(-5,5)]\n",
    "print impulse\n",
    "plt.figure()\n",
    "fig, ax = plt.subplots()\n",
    "plt.plot(impulse)\n",
    "ax.set_xticklabels(range(-4,len(impulse)-4))\n",
    "plt.show()"
   ]
  },
  {
   "cell_type": "markdown",
   "metadata": {},
   "source": [
    "YAY! We are learning about some types of signals. But honestly, what can I do with these?\n",
    "First things first: We can do signal processing! This is the process of taking signals and modifying them in some way. It can be anything really, adding a filter on instagram, bluring an image, removing noise from something while in lab. Most anything in a research setting needs some signal processing.\n",
    "Second (what we will look at today): Considering how do systems interact with signals?\n",
    "\n",
    "So first, let's look at how we represent systems:"
   ]
  },
  {
   "cell_type": "markdown",
   "metadata": {},
   "source": [
    "We will be dealing with Linear - Time Invarient Systems. \n",
    "Linearity means the following:\n",
    "$$ f(a) + f(b) = f(a+b) $$\n",
    "\n",
    "Time Invarience means this:\n",
    "$$ (x[n] \\text{ results in  } y[n]) \\text{  implies  } (x[n+k] \\text{  result in  } y[n+k]) $$\n",
    "\n",
    "Why do we care about these? Well they just illustrate two properties of easy to model systems. If we have a system and I put two inputs into it, I hope that the output is the same as of I put the inputs in seperatly and summed the responses. Time invarience says that the system doesn't care when I put the signal in (this is VERY reasonable for almost all systems).\n",
    "\n",
    "So, we are going to call all LTI systems LTI since we will use these A LOT!"
   ]
  },
  {
   "cell_type": "code",
   "execution_count": 74,
   "metadata": {},
   "outputs": [
    {
     "data": {
      "image/png": "[encoded data removed]",
      "text/plain": [
       "<matplotlib.figure.Figure at 0x7ff8d32bded0>"
      ]
     },
     "metadata": {},
     "output_type": "display_data"
    }
   ],
   "source": [
    "a = np.array([[0, 1], [0, 0]])\n",
    "b = np.array([[0], [1]])\n",
    "c = np.array([[1, 0]])\n",
    "d = np.array([[0]])\n",
    "sys = signal.StateSpace(a, b, c, d,dt=1.0)\n",
    "tout,yout = signal.dimpulse(sys)\n",
    "plt.figure()\n",
    "plt.plot(tout[0:20],yout[0][0:20])\n",
    "plt.show()"
   ]
  }
 ],
 "metadata": {
  "kernelspec": {
   "display_name": "Python 2",
   "language": "python",
   "name": "python2"
  },
  "language_info": {
   "codemirror_mode": {
    "name": "ipython",
    "version": 2
   },
   "file_extension": ".py",
   "mimetype": "text/x-python",
   "name": "python",
   "nbconvert_exporter": "python",
   "pygments_lexer": "ipython2",
   "version": "2.7.12"
  }
 },
 "nbformat": 4,
 "nbformat_minor": 2
}
